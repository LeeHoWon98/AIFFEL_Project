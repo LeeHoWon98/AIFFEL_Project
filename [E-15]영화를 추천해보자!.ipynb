{
 "cells": [
  {
   "cell_type": "markdown",
   "id": "5ef2ddb4",
   "metadata": {},
   "source": [
    "# 영화를 추천해보자\n",
    "\n",
    "\n",
    "코로나가 심각해지면서 집에 있는 시간이 늘어나게되고 OTT 서비스들이 증가하였습니다.\n",
    "\n",
    "자연스래 사람들에 니즈에 따라 볼거리를 추천해주는 추천시스템\n",
    "\n",
    "또한 많이 발전하게 되었습니다.\n",
    "\n",
    "오늘은 그중 영화를 추천해주는 프로젝트를 한번 해보겠습니다.\n",
    "\n",
    "---\n",
    "\n",
    "목차\n",
    "\n",
    "데이터 준비와 전처리\n",
    "\n",
    "csr_matrix 만들기\n",
    "\n",
    "모델 만들기\n",
    "\n",
    "모델 학습 및 결과 확인\n",
    "\n",
    "피어슨 상관계수를 사용한 간단한 추천시스템\n",
    "\n",
    "마무리\n",
    "\n",
    "---"
   ]
  },
  {
   "cell_type": "markdown",
   "id": "7dde257d",
   "metadata": {},
   "source": [
    "## 데이터 준비와 전처리"
   ]
  },
  {
   "cell_type": "markdown",
   "id": "b8071ac0",
   "metadata": {},
   "source": [
    "### 필요한 라이브러리 임포트"
   ]
  },
  {
   "cell_type": "code",
   "execution_count": 63,
   "id": "41f22775",
   "metadata": {},
   "outputs": [],
   "source": [
    "import numpy as np\n",
    "import pandas as pd\n",
    "import os\n",
    "import scipy\n",
    "import implicit\n",
    "import matplotlib.pyplot as plt\n",
    "\n",
    "import warnings\n",
    "warnings.filterwarnings('ignore')"
   ]
  },
  {
   "cell_type": "markdown",
   "id": "16646346",
   "metadata": {},
   "source": [
    "---"
   ]
  },
  {
   "cell_type": "markdown",
   "id": "714bf59b",
   "metadata": {},
   "source": [
    "### 데이터 불러오기\n",
    "- 첫번째로 불러올 데이터는 ratings라는 영화 평점 데이터입니다.\n",
    "- 컬럼은 'user_id', 'movie_id', 'rating', 'timestamp'만 불러오겠습니다."
   ]
  },
  {
   "cell_type": "code",
   "execution_count": 64,
   "id": "6d8a9257",
   "metadata": {},
   "outputs": [
    {
     "data": {
      "text/html": [
       "<div>\n",
       "<style scoped>\n",
       "    .dataframe tbody tr th:only-of-type {\n",
       "        vertical-align: middle;\n",
       "    }\n",
       "\n",
       "    .dataframe tbody tr th {\n",
       "        vertical-align: top;\n",
       "    }\n",
       "\n",
       "    .dataframe thead th {\n",
       "        text-align: right;\n",
       "    }\n",
       "</style>\n",
       "<table border=\"1\" class=\"dataframe\">\n",
       "  <thead>\n",
       "    <tr style=\"text-align: right;\">\n",
       "      <th></th>\n",
       "      <th>user_id</th>\n",
       "      <th>movie_id</th>\n",
       "      <th>rating</th>\n",
       "      <th>timestamp</th>\n",
       "    </tr>\n",
       "  </thead>\n",
       "  <tbody>\n",
       "    <tr>\n",
       "      <th>0</th>\n",
       "      <td>1</td>\n",
       "      <td>1193</td>\n",
       "      <td>5</td>\n",
       "      <td>978300760</td>\n",
       "    </tr>\n",
       "    <tr>\n",
       "      <th>1</th>\n",
       "      <td>1</td>\n",
       "      <td>661</td>\n",
       "      <td>3</td>\n",
       "      <td>978302109</td>\n",
       "    </tr>\n",
       "    <tr>\n",
       "      <th>2</th>\n",
       "      <td>1</td>\n",
       "      <td>914</td>\n",
       "      <td>3</td>\n",
       "      <td>978301968</td>\n",
       "    </tr>\n",
       "    <tr>\n",
       "      <th>3</th>\n",
       "      <td>1</td>\n",
       "      <td>3408</td>\n",
       "      <td>4</td>\n",
       "      <td>978300275</td>\n",
       "    </tr>\n",
       "    <tr>\n",
       "      <th>4</th>\n",
       "      <td>1</td>\n",
       "      <td>2355</td>\n",
       "      <td>5</td>\n",
       "      <td>978824291</td>\n",
       "    </tr>\n",
       "  </tbody>\n",
       "</table>\n",
       "</div>"
      ],
      "text/plain": [
       "   user_id  movie_id  rating  timestamp\n",
       "0        1      1193       5  978300760\n",
       "1        1       661       3  978302109\n",
       "2        1       914       3  978301968\n",
       "3        1      3408       4  978300275\n",
       "4        1      2355       5  978824291"
      ]
     },
     "execution_count": 64,
     "metadata": {},
     "output_type": "execute_result"
    }
   ],
   "source": [
    "rating_file_path=os.getenv('HOME') + '/aiffel/recommendata_iu/data/ml-1m/ratings.dat'\n",
    "# 보여줄 컬럼 정의\n",
    "ratings_cols = ['user_id', 'movie_id', 'rating', 'timestamp']\n",
    "ratings = pd.read_csv(rating_file_path, sep='::', names=ratings_cols, engine='python')\n",
    "orginal_data_size = len(ratings)\n",
    "ratings.head()"
   ]
  },
  {
   "cell_type": "markdown",
   "id": "bce01cea",
   "metadata": {},
   "source": [
    "---"
   ]
  },
  {
   "cell_type": "markdown",
   "id": "bd210d94",
   "metadata": {},
   "source": [
    "### rating 점수에 따른 분포 확인\n",
    "- rating 점수에 따른 분포를 확인해보고 필요 없는 것은 삭제\n",
    "- 데이터 용량을 줄이기 위함"
   ]
  },
  {
   "cell_type": "code",
   "execution_count": 65,
   "id": "4f16773b",
   "metadata": {},
   "outputs": [
    {
     "data": {
      "text/plain": [
       "4    348971\n",
       "3    261197\n",
       "5    226310\n",
       "2    107557\n",
       "1     56174\n",
       "Name: rating, dtype: int64"
      ]
     },
     "execution_count": 65,
     "metadata": {},
     "output_type": "execute_result"
    }
   ],
   "source": [
    "ratings['rating'].value_counts()"
   ]
  },
  {
   "cell_type": "markdown",
   "id": "4f18bcfa",
   "metadata": {},
   "source": [
    "---"
   ]
  },
  {
   "cell_type": "markdown",
   "id": "6d093192",
   "metadata": {},
   "source": [
    "### 시각화로 확인해보기"
   ]
  },
  {
   "cell_type": "code",
   "execution_count": 66,
   "id": "3f8c13a6",
   "metadata": {},
   "outputs": [
    {
     "data": {
      "image/png": "[encoded data removed]",
      "text/plain": [
       "<Figure size 576x576 with 1 Axes>"
      ]
     },
     "metadata": {
      "needs_background": "light"
     },
     "output_type": "display_data"
    }
   ],
   "source": [
    "ratings_users = ratings.groupby(by=['rating']).agg({'user_id': 'count'}).reset_index()\n",
    "ratings_users.columns = ['ratings', 'users']\n",
    "ratings_users_dic = {ratings:users for ratings, users in zip(ratings_users.ratings, ratings_users.users)}\n",
    "\n",
    "plt.figure(figsize=(8,8))\n",
    "plt.barh(ratings_users.ratings, ratings_users.users, align='center', alpha=0.3, color='y')\n",
    "plt.yticks(ratings_users.ratings)\n",
    "plt.xticks(ratings_users.users)\n",
    "plt.legend(ratings_users.columns)\n",
    "\n",
    "for i, users in enumerate(ratings_users.users):\n",
    "    if i >= 2:\n",
    "        color = 'r'\n",
    "    else:\n",
    "        color = 'b'\n",
    "    plt.text(users+i,1+i,users, horizontalalignment='center', verticalalignment='center', color=color)\n",
    "\n",
    "plt.show()"
   ]
  },
  {
   "cell_type": "markdown",
   "id": "43ddb652",
   "metadata": {},
   "source": [
    "---"
   ]
  },
  {
   "cell_type": "markdown",
   "id": "ebf517a2",
   "metadata": {},
   "source": [
    "### 데이터 전처리(1)\n",
    "- 3점 미만은 데이터가 적고 볼 필요가 없다고 판단하고 데이터를 삭제함\n",
    "- rating 컬럼명을 count로 변경"
   ]
  },
  {
   "cell_type": "code",
   "execution_count": 67,
   "id": "8b556b4b",
   "metadata": {},
   "outputs": [
    {
     "name": "stdout",
     "output_type": "stream",
     "text": [
      "orginal_data_size: 1000209, filtered_data_size: 836478\n",
      "Ratio of Remaining Data is 83.63%\n"
     ]
    }
   ],
   "source": [
    "# 3점 이상만 모아두겠다\n",
    "ratings = ratings[ratings['rating']>=3]\n",
    "filtered_data_size = len(ratings)\n",
    "\n",
    "print(f'orginal_data_size: {orginal_data_size}, filtered_data_size: {filtered_data_size}')\n",
    "print(f'Ratio of Remaining Data is {filtered_data_size / orginal_data_size:.2%}')"
   ]
  },
  {
   "cell_type": "code",
   "execution_count": 68,
   "id": "e696c7f4",
   "metadata": {},
   "outputs": [
    {
     "data": {
      "text/html": [
       "<div>\n",
       "<style scoped>\n",
       "    .dataframe tbody tr th:only-of-type {\n",
       "        vertical-align: middle;\n",
       "    }\n",
       "\n",
       "    .dataframe tbody tr th {\n",
       "        vertical-align: top;\n",
       "    }\n",
       "\n",
       "    .dataframe thead th {\n",
       "        text-align: right;\n",
       "    }\n",
       "</style>\n",
       "<table border=\"1\" class=\"dataframe\">\n",
       "  <thead>\n",
       "    <tr style=\"text-align: right;\">\n",
       "      <th></th>\n",
       "      <th>user_id</th>\n",
       "      <th>movie_id</th>\n",
       "      <th>count</th>\n",
       "      <th>timestamp</th>\n",
       "    </tr>\n",
       "  </thead>\n",
       "  <tbody>\n",
       "    <tr>\n",
       "      <th>0</th>\n",
       "      <td>1</td>\n",
       "      <td>1193</td>\n",
       "      <td>5</td>\n",
       "      <td>978300760</td>\n",
       "    </tr>\n",
       "    <tr>\n",
       "      <th>1</th>\n",
       "      <td>1</td>\n",
       "      <td>661</td>\n",
       "      <td>3</td>\n",
       "      <td>978302109</td>\n",
       "    </tr>\n",
       "    <tr>\n",
       "      <th>2</th>\n",
       "      <td>1</td>\n",
       "      <td>914</td>\n",
       "      <td>3</td>\n",
       "      <td>978301968</td>\n",
       "    </tr>\n",
       "    <tr>\n",
       "      <th>3</th>\n",
       "      <td>1</td>\n",
       "      <td>3408</td>\n",
       "      <td>4</td>\n",
       "      <td>978300275</td>\n",
       "    </tr>\n",
       "    <tr>\n",
       "      <th>4</th>\n",
       "      <td>1</td>\n",
       "      <td>2355</td>\n",
       "      <td>5</td>\n",
       "      <td>978824291</td>\n",
       "    </tr>\n",
       "    <tr>\n",
       "      <th>...</th>\n",
       "      <td>...</td>\n",
       "      <td>...</td>\n",
       "      <td>...</td>\n",
       "      <td>...</td>\n",
       "    </tr>\n",
       "    <tr>\n",
       "      <th>1000203</th>\n",
       "      <td>6040</td>\n",
       "      <td>1090</td>\n",
       "      <td>3</td>\n",
       "      <td>956715518</td>\n",
       "    </tr>\n",
       "    <tr>\n",
       "      <th>1000205</th>\n",
       "      <td>6040</td>\n",
       "      <td>1094</td>\n",
       "      <td>5</td>\n",
       "      <td>956704887</td>\n",
       "    </tr>\n",
       "    <tr>\n",
       "      <th>1000206</th>\n",
       "      <td>6040</td>\n",
       "      <td>562</td>\n",
       "      <td>5</td>\n",
       "      <td>956704746</td>\n",
       "    </tr>\n",
       "    <tr>\n",
       "      <th>1000207</th>\n",
       "      <td>6040</td>\n",
       "      <td>1096</td>\n",
       "      <td>4</td>\n",
       "      <td>956715648</td>\n",
       "    </tr>\n",
       "    <tr>\n",
       "      <th>1000208</th>\n",
       "      <td>6040</td>\n",
       "      <td>1097</td>\n",
       "      <td>4</td>\n",
       "      <td>956715569</td>\n",
       "    </tr>\n",
       "  </tbody>\n",
       "</table>\n",
       "<p>836478 rows × 4 columns</p>\n",
       "</div>"
      ],
      "text/plain": [
       "         user_id  movie_id  count  timestamp\n",
       "0              1      1193      5  978300760\n",
       "1              1       661      3  978302109\n",
       "2              1       914      3  978301968\n",
       "3              1      3408      4  978300275\n",
       "4              1      2355      5  978824291\n",
       "...          ...       ...    ...        ...\n",
       "1000203     6040      1090      3  956715518\n",
       "1000205     6040      1094      5  956704887\n",
       "1000206     6040       562      5  956704746\n",
       "1000207     6040      1096      4  956715648\n",
       "1000208     6040      1097      4  956715569\n",
       "\n",
       "[836478 rows x 4 columns]"
      ]
     },
     "execution_count": 68,
     "metadata": {},
     "output_type": "execute_result"
    }
   ],
   "source": [
    "# ratings 컬럼의 이름을 counts로 바꿉니다.\n",
    "ratings.rename(columns={'rating':'count'}, inplace=True)\n",
    "ratings"
   ]
  },
  {
   "cell_type": "markdown",
   "id": "47f2bc81",
   "metadata": {},
   "source": [
    "---"
   ]
  },
  {
   "cell_type": "markdown",
   "id": "7c192d5e",
   "metadata": {},
   "source": [
    "### movie_data load\n",
    "\n",
    "위의 데이터는 영화 평점이 담겨있는 평점 데이터셋입니다.\n",
    "\n",
    "물론 movie_id라는 항목이 존재하지만, 영화명이 따로 존재하지는 않습니다.\n",
    "\n",
    "그래서 movie라는 데이터를 따로 로드하여 movie_id에 매칭되는 영화이름을 알아보겠습니다."
   ]
  },
  {
   "cell_type": "code",
   "execution_count": 69,
   "id": "0860e803",
   "metadata": {
    "scrolled": true
   },
   "outputs": [
    {
     "data": {
      "text/html": [
       "<div>\n",
       "<style scoped>\n",
       "    .dataframe tbody tr th:only-of-type {\n",
       "        vertical-align: middle;\n",
       "    }\n",
       "\n",
       "    .dataframe tbody tr th {\n",
       "        vertical-align: top;\n",
       "    }\n",
       "\n",
       "    .dataframe thead th {\n",
       "        text-align: right;\n",
       "    }\n",
       "</style>\n",
       "<table border=\"1\" class=\"dataframe\">\n",
       "  <thead>\n",
       "    <tr style=\"text-align: right;\">\n",
       "      <th></th>\n",
       "      <th>movie_id</th>\n",
       "      <th>title</th>\n",
       "      <th>genre</th>\n",
       "    </tr>\n",
       "  </thead>\n",
       "  <tbody>\n",
       "    <tr>\n",
       "      <th>0</th>\n",
       "      <td>1</td>\n",
       "      <td>Toy Story (1995)</td>\n",
       "      <td>Animation|Children's|Comedy</td>\n",
       "    </tr>\n",
       "    <tr>\n",
       "      <th>1</th>\n",
       "      <td>2</td>\n",
       "      <td>Jumanji (1995)</td>\n",
       "      <td>Adventure|Children's|Fantasy</td>\n",
       "    </tr>\n",
       "    <tr>\n",
       "      <th>2</th>\n",
       "      <td>3</td>\n",
       "      <td>Grumpier Old Men (1995)</td>\n",
       "      <td>Comedy|Romance</td>\n",
       "    </tr>\n",
       "    <tr>\n",
       "      <th>3</th>\n",
       "      <td>4</td>\n",
       "      <td>Waiting to Exhale (1995)</td>\n",
       "      <td>Comedy|Drama</td>\n",
       "    </tr>\n",
       "    <tr>\n",
       "      <th>4</th>\n",
       "      <td>5</td>\n",
       "      <td>Father of the Bride Part II (1995)</td>\n",
       "      <td>Comedy</td>\n",
       "    </tr>\n",
       "  </tbody>\n",
       "</table>\n",
       "</div>"
      ],
      "text/plain": [
       "   movie_id                               title                         genre\n",
       "0         1                    Toy Story (1995)   Animation|Children's|Comedy\n",
       "1         2                      Jumanji (1995)  Adventure|Children's|Fantasy\n",
       "2         3             Grumpier Old Men (1995)                Comedy|Romance\n",
       "3         4            Waiting to Exhale (1995)                  Comedy|Drama\n",
       "4         5  Father of the Bride Part II (1995)                        Comedy"
      ]
     },
     "execution_count": 69,
     "metadata": {},
     "output_type": "execute_result"
    }
   ],
   "source": [
    "# 영화 제목을 보기 위해 메타 데이터를 읽어옵니다.\n",
    "movie_file_path=os.getenv('HOME') + '/aiffel/recommendata_iu/data/ml-1m/movies.dat'\n",
    "cols = ['movie_id', 'title', 'genre'] \n",
    "movies = pd.read_csv(movie_file_path, sep='::', names=cols, engine='python', encoding='ISO-8859-1')\n",
    "movies.head()"
   ]
  },
  {
   "cell_type": "markdown",
   "id": "bed3cd32",
   "metadata": {},
   "source": [
    "---"
   ]
  },
  {
   "cell_type": "markdown",
   "id": "0db9ee7b",
   "metadata": {},
   "source": [
    "### 데이터 전처리(2)\n",
    "- 영화 이름에서 날짜를 지움\n",
    "- 이름을 전부 소문자로 바꿈"
   ]
  },
  {
   "cell_type": "code",
   "execution_count": 70,
   "id": "9342c75c",
   "metadata": {},
   "outputs": [
    {
     "data": {
      "text/html": [
       "<div>\n",
       "<style scoped>\n",
       "    .dataframe tbody tr th:only-of-type {\n",
       "        vertical-align: middle;\n",
       "    }\n",
       "\n",
       "    .dataframe tbody tr th {\n",
       "        vertical-align: top;\n",
       "    }\n",
       "\n",
       "    .dataframe thead th {\n",
       "        text-align: right;\n",
       "    }\n",
       "</style>\n",
       "<table border=\"1\" class=\"dataframe\">\n",
       "  <thead>\n",
       "    <tr style=\"text-align: right;\">\n",
       "      <th></th>\n",
       "      <th>movie_id</th>\n",
       "      <th>title</th>\n",
       "      <th>genre</th>\n",
       "    </tr>\n",
       "  </thead>\n",
       "  <tbody>\n",
       "    <tr>\n",
       "      <th>0</th>\n",
       "      <td>1</td>\n",
       "      <td>toy story</td>\n",
       "      <td>Animation|Children's|Comedy</td>\n",
       "    </tr>\n",
       "    <tr>\n",
       "      <th>1</th>\n",
       "      <td>2</td>\n",
       "      <td>jumanji</td>\n",
       "      <td>Adventure|Children's|Fantasy</td>\n",
       "    </tr>\n",
       "    <tr>\n",
       "      <th>2</th>\n",
       "      <td>3</td>\n",
       "      <td>grumpier old men</td>\n",
       "      <td>Comedy|Romance</td>\n",
       "    </tr>\n",
       "    <tr>\n",
       "      <th>3</th>\n",
       "      <td>4</td>\n",
       "      <td>waiting to exhale</td>\n",
       "      <td>Comedy|Drama</td>\n",
       "    </tr>\n",
       "    <tr>\n",
       "      <th>4</th>\n",
       "      <td>5</td>\n",
       "      <td>father of the bride part ii</td>\n",
       "      <td>Comedy</td>\n",
       "    </tr>\n",
       "  </tbody>\n",
       "</table>\n",
       "</div>"
      ],
      "text/plain": [
       "   movie_id                        title                         genre\n",
       "0         1                    toy story   Animation|Children's|Comedy\n",
       "1         2                      jumanji  Adventure|Children's|Fantasy\n",
       "2         3             grumpier old men                Comedy|Romance\n",
       "3         4            waiting to exhale                  Comedy|Drama\n",
       "4         5  father of the bride part ii                        Comedy"
      ]
     },
     "execution_count": 70,
     "metadata": {},
     "output_type": "execute_result"
    }
   ],
   "source": [
    "import re\n",
    "\n",
    "pattern = re.compile('[^a-zA-Z]*$')\n",
    "movies['title'] = movies['title'].map(lambda x : pattern.sub('', x))\n",
    "movies['title'] = movies['title'].str.lower()\n",
    "\n",
    "movies.head()"
   ]
  },
  {
   "cell_type": "markdown",
   "id": "cf515ba6",
   "metadata": {},
   "source": [
    "---"
   ]
  },
  {
   "cell_type": "markdown",
   "id": "2fa37829",
   "metadata": {},
   "source": [
    "### 데이터 전처리(3)\n",
    "- ratings에 있는 유니크한 영화 개수 확인\n",
    "- ratings에 있는 유니크한 사용자 수 확인\n",
    "- 가장 인기 있는 영화 30개 뽑아보기"
   ]
  },
  {
   "cell_type": "code",
   "execution_count": 71,
   "id": "a975d81d",
   "metadata": {},
   "outputs": [
    {
     "name": "stdout",
     "output_type": "stream",
     "text": [
      "3628\n",
      "6039\n"
     ]
    }
   ],
   "source": [
    "print(ratings['movie_id'].nunique())\n",
    "print(ratings['user_id'].nunique())"
   ]
  },
  {
   "cell_type": "code",
   "execution_count": 72,
   "id": "1d54b296",
   "metadata": {},
   "outputs": [
    {
     "name": "stdout",
     "output_type": "stream",
     "text": [
      "american beauty : 3211\n",
      "star wars: episode iv - a new hope : 2910\n",
      "star wars: episode v - the empire strikes back : 2885\n",
      "star wars: episode vi - return of the jedi : 2716\n",
      "saving private ryan : 2561\n",
      "terminator 2: judgment day : 2509\n",
      "silence of the lambs, the : 2498\n",
      "raiders of the lost ark : 2473\n",
      "back to the future : 2460\n",
      "matrix, the : 2434\n",
      "jurassic park : 2413\n",
      "sixth sense, the : 2385\n",
      "fargo : 2371\n",
      "braveheart : 2314\n",
      "men in black : 2297\n",
      "schindler's list : 2257\n",
      "princess bride, the : 2252\n",
      "shakespeare in love : 2213\n",
      "l.a. confidential : 2210\n",
      "shawshank redemption, the : 2194\n",
      "godfather, the : 2167\n",
      "groundhog day : 2121\n",
      "e.t. the extra-terrestrial : 2102\n",
      "being john malkovich : 2066\n",
      "ghostbusters : 2051\n",
      "pulp fiction : 2030\n",
      "forrest gump : 2022\n",
      "terminator, the : 2019\n",
      "toy story : 2000\n",
      "fugitive, the : 1941\n"
     ]
    }
   ],
   "source": [
    "good_movie = ratings['movie_id'].value_counts()[:30]\n",
    "\n",
    "#영화 이름은 물론이고, 몇명이 봤는지도 출력\n",
    "for i, k in zip(good_movie.index, good_movie.values):\n",
    "    print(movies[movies['movie_id']==i]['title'].values[0],':',k)"
   ]
  },
  {
   "cell_type": "markdown",
   "id": "256cc929",
   "metadata": {},
   "source": [
    "---"
   ]
  },
  {
   "cell_type": "markdown",
   "id": "91255f17",
   "metadata": {},
   "source": [
    "### 값 확인해보기"
   ]
  },
  {
   "cell_type": "code",
   "execution_count": 22,
   "id": "b66ca072",
   "metadata": {},
   "outputs": [
    {
     "data": {
      "text/plain": [
       "count    6039.000000\n",
       "mean      138.512668\n",
       "std       156.241599\n",
       "min         1.000000\n",
       "25%        38.000000\n",
       "50%        81.000000\n",
       "75%       177.000000\n",
       "max      1968.000000\n",
       "Name: movie_id, dtype: float64"
      ]
     },
     "execution_count": 22,
     "metadata": {},
     "output_type": "execute_result"
    }
   ],
   "source": [
    "user_count = ratings.groupby('user_id')['movie_id'].count()\n",
    "user_count.describe()"
   ]
  },
  {
   "cell_type": "code",
   "execution_count": 23,
   "id": "77157561",
   "metadata": {},
   "outputs": [
    {
     "data": {
      "text/plain": [
       "count    6039.000000\n",
       "mean        4.055970\n",
       "std         0.432143\n",
       "min         3.000000\n",
       "25%         4.000000\n",
       "50%         4.000000\n",
       "75%         4.000000\n",
       "max         5.000000\n",
       "Name: count, dtype: float64"
      ]
     },
     "execution_count": 23,
     "metadata": {},
     "output_type": "execute_result"
    }
   ],
   "source": [
    "user_median = ratings.groupby('user_id')['count'].median()\n",
    "user_median.describe()"
   ]
  },
  {
   "cell_type": "markdown",
   "id": "38920d35",
   "metadata": {},
   "source": [
    "---"
   ]
  },
  {
   "cell_type": "markdown",
   "id": "a8a1085e",
   "metadata": {},
   "source": [
    "### 데이터 전처리(4)\n",
    "\n",
    "영화명이 나와있는 movie 데이터와 평점이 나와있는 ratings 데이터를\n",
    "\n",
    "보기 편하게 합쳐 주겠습니다.\n",
    "\n",
    "두 데이터셋에서 movie_id가 중복되므로 movie_id를 기준으로 합치겠습니다."
   ]
  },
  {
   "cell_type": "code",
   "execution_count": 24,
   "id": "496a735a",
   "metadata": {},
   "outputs": [
    {
     "data": {
      "text/html": [
       "<div>\n",
       "<style scoped>\n",
       "    .dataframe tbody tr th:only-of-type {\n",
       "        vertical-align: middle;\n",
       "    }\n",
       "\n",
       "    .dataframe tbody tr th {\n",
       "        vertical-align: top;\n",
       "    }\n",
       "\n",
       "    .dataframe thead th {\n",
       "        text-align: right;\n",
       "    }\n",
       "</style>\n",
       "<table border=\"1\" class=\"dataframe\">\n",
       "  <thead>\n",
       "    <tr style=\"text-align: right;\">\n",
       "      <th></th>\n",
       "      <th>user_id</th>\n",
       "      <th>movie_id</th>\n",
       "      <th>count</th>\n",
       "      <th>timestamp</th>\n",
       "      <th>title</th>\n",
       "    </tr>\n",
       "  </thead>\n",
       "  <tbody>\n",
       "    <tr>\n",
       "      <th>0</th>\n",
       "      <td>1</td>\n",
       "      <td>1193</td>\n",
       "      <td>5</td>\n",
       "      <td>978300760</td>\n",
       "      <td>one flew over the cuckoo's nest</td>\n",
       "    </tr>\n",
       "    <tr>\n",
       "      <th>1</th>\n",
       "      <td>1</td>\n",
       "      <td>661</td>\n",
       "      <td>3</td>\n",
       "      <td>978302109</td>\n",
       "      <td>james and the giant peach</td>\n",
       "    </tr>\n",
       "    <tr>\n",
       "      <th>2</th>\n",
       "      <td>1</td>\n",
       "      <td>914</td>\n",
       "      <td>3</td>\n",
       "      <td>978301968</td>\n",
       "      <td>my fair lady</td>\n",
       "    </tr>\n",
       "    <tr>\n",
       "      <th>3</th>\n",
       "      <td>1</td>\n",
       "      <td>3408</td>\n",
       "      <td>4</td>\n",
       "      <td>978300275</td>\n",
       "      <td>erin brockovich</td>\n",
       "    </tr>\n",
       "    <tr>\n",
       "      <th>4</th>\n",
       "      <td>1</td>\n",
       "      <td>2355</td>\n",
       "      <td>5</td>\n",
       "      <td>978824291</td>\n",
       "      <td>bug's life, a</td>\n",
       "    </tr>\n",
       "    <tr>\n",
       "      <th>...</th>\n",
       "      <td>...</td>\n",
       "      <td>...</td>\n",
       "      <td>...</td>\n",
       "      <td>...</td>\n",
       "      <td>...</td>\n",
       "    </tr>\n",
       "    <tr>\n",
       "      <th>836473</th>\n",
       "      <td>6040</td>\n",
       "      <td>1090</td>\n",
       "      <td>3</td>\n",
       "      <td>956715518</td>\n",
       "      <td>platoon</td>\n",
       "    </tr>\n",
       "    <tr>\n",
       "      <th>836474</th>\n",
       "      <td>6040</td>\n",
       "      <td>1094</td>\n",
       "      <td>5</td>\n",
       "      <td>956704887</td>\n",
       "      <td>crying game, the</td>\n",
       "    </tr>\n",
       "    <tr>\n",
       "      <th>836475</th>\n",
       "      <td>6040</td>\n",
       "      <td>562</td>\n",
       "      <td>5</td>\n",
       "      <td>956704746</td>\n",
       "      <td>welcome to the dollhouse</td>\n",
       "    </tr>\n",
       "    <tr>\n",
       "      <th>836476</th>\n",
       "      <td>6040</td>\n",
       "      <td>1096</td>\n",
       "      <td>4</td>\n",
       "      <td>956715648</td>\n",
       "      <td>sophie's choice</td>\n",
       "    </tr>\n",
       "    <tr>\n",
       "      <th>836477</th>\n",
       "      <td>6040</td>\n",
       "      <td>1097</td>\n",
       "      <td>4</td>\n",
       "      <td>956715569</td>\n",
       "      <td>e.t. the extra-terrestrial</td>\n",
       "    </tr>\n",
       "  </tbody>\n",
       "</table>\n",
       "<p>836478 rows × 5 columns</p>\n",
       "</div>"
      ],
      "text/plain": [
       "        user_id  movie_id  count  timestamp                            title\n",
       "0             1      1193      5  978300760  one flew over the cuckoo's nest\n",
       "1             1       661      3  978302109        james and the giant peach\n",
       "2             1       914      3  978301968                     my fair lady\n",
       "3             1      3408      4  978300275                  erin brockovich\n",
       "4             1      2355      5  978824291                    bug's life, a\n",
       "...         ...       ...    ...        ...                              ...\n",
       "836473     6040      1090      3  956715518                          platoon\n",
       "836474     6040      1094      5  956704887                 crying game, the\n",
       "836475     6040       562      5  956704746         welcome to the dollhouse\n",
       "836476     6040      1096      4  956715648                  sophie's choice\n",
       "836477     6040      1097      4  956715569       e.t. the extra-terrestrial\n",
       "\n",
       "[836478 rows x 5 columns]"
      ]
     },
     "execution_count": 24,
     "metadata": {},
     "output_type": "execute_result"
    }
   ],
   "source": [
    "ratings_title = pd.merge(ratings, movies[['title', 'movie_id']], on='movie_id', how='left')\n",
    "ratings_title"
   ]
  },
  {
   "cell_type": "markdown",
   "id": "fdb2a3c6",
   "metadata": {},
   "source": [
    "제 이름으로 영화 데이터를 추가해보겠습니다.\n",
    "\n",
    "5개 정도만 추가해서 확인해보겠습니다."
   ]
  },
  {
   "cell_type": "code",
   "execution_count": 27,
   "id": "eb6f0f60",
   "metadata": {},
   "outputs": [
    {
     "data": {
      "text/html": [
       "<div>\n",
       "<style scoped>\n",
       "    .dataframe tbody tr th:only-of-type {\n",
       "        vertical-align: middle;\n",
       "    }\n",
       "\n",
       "    .dataframe tbody tr th {\n",
       "        vertical-align: top;\n",
       "    }\n",
       "\n",
       "    .dataframe thead th {\n",
       "        text-align: right;\n",
       "    }\n",
       "</style>\n",
       "<table border=\"1\" class=\"dataframe\">\n",
       "  <thead>\n",
       "    <tr style=\"text-align: right;\">\n",
       "      <th></th>\n",
       "      <th>user_id</th>\n",
       "      <th>movie_id</th>\n",
       "      <th>count</th>\n",
       "      <th>timestamp</th>\n",
       "      <th>title</th>\n",
       "    </tr>\n",
       "  </thead>\n",
       "  <tbody>\n",
       "    <tr>\n",
       "      <th>836473</th>\n",
       "      <td>6040</td>\n",
       "      <td>1090.0</td>\n",
       "      <td>3</td>\n",
       "      <td>956715518.0</td>\n",
       "      <td>platoon</td>\n",
       "    </tr>\n",
       "    <tr>\n",
       "      <th>836474</th>\n",
       "      <td>6040</td>\n",
       "      <td>1094.0</td>\n",
       "      <td>5</td>\n",
       "      <td>956704887.0</td>\n",
       "      <td>crying game, the</td>\n",
       "    </tr>\n",
       "    <tr>\n",
       "      <th>836475</th>\n",
       "      <td>6040</td>\n",
       "      <td>562.0</td>\n",
       "      <td>5</td>\n",
       "      <td>956704746.0</td>\n",
       "      <td>welcome to the dollhouse</td>\n",
       "    </tr>\n",
       "    <tr>\n",
       "      <th>836476</th>\n",
       "      <td>6040</td>\n",
       "      <td>1096.0</td>\n",
       "      <td>4</td>\n",
       "      <td>956715648.0</td>\n",
       "      <td>sophie's choice</td>\n",
       "    </tr>\n",
       "    <tr>\n",
       "      <th>836477</th>\n",
       "      <td>6040</td>\n",
       "      <td>1097.0</td>\n",
       "      <td>4</td>\n",
       "      <td>956715569.0</td>\n",
       "      <td>e.t. the extra-terrestrial</td>\n",
       "    </tr>\n",
       "    <tr>\n",
       "      <th>0</th>\n",
       "      <td>howon</td>\n",
       "      <td>NaN</td>\n",
       "      <td>5</td>\n",
       "      <td>NaN</td>\n",
       "      <td>toy story</td>\n",
       "    </tr>\n",
       "    <tr>\n",
       "      <th>1</th>\n",
       "      <td>howon</td>\n",
       "      <td>NaN</td>\n",
       "      <td>5</td>\n",
       "      <td>NaN</td>\n",
       "      <td>jumanji</td>\n",
       "    </tr>\n",
       "    <tr>\n",
       "      <th>2</th>\n",
       "      <td>howon</td>\n",
       "      <td>NaN</td>\n",
       "      <td>5</td>\n",
       "      <td>NaN</td>\n",
       "      <td>grumpier old men</td>\n",
       "    </tr>\n",
       "    <tr>\n",
       "      <th>3</th>\n",
       "      <td>howon</td>\n",
       "      <td>NaN</td>\n",
       "      <td>5</td>\n",
       "      <td>NaN</td>\n",
       "      <td>waiting to exhale</td>\n",
       "    </tr>\n",
       "    <tr>\n",
       "      <th>4</th>\n",
       "      <td>howon</td>\n",
       "      <td>NaN</td>\n",
       "      <td>5</td>\n",
       "      <td>NaN</td>\n",
       "      <td>father of the bride part ii</td>\n",
       "    </tr>\n",
       "  </tbody>\n",
       "</table>\n",
       "</div>"
      ],
      "text/plain": [
       "       user_id  movie_id  count    timestamp                        title\n",
       "836473    6040    1090.0      3  956715518.0                      platoon\n",
       "836474    6040    1094.0      5  956704887.0             crying game, the\n",
       "836475    6040     562.0      5  956704746.0     welcome to the dollhouse\n",
       "836476    6040    1096.0      4  956715648.0              sophie's choice\n",
       "836477    6040    1097.0      4  956715569.0   e.t. the extra-terrestrial\n",
       "0        howon       NaN      5          NaN                    toy story\n",
       "1        howon       NaN      5          NaN                      jumanji\n",
       "2        howon       NaN      5          NaN             grumpier old men\n",
       "3        howon       NaN      5          NaN            waiting to exhale\n",
       "4        howon       NaN      5          NaN  father of the bride part ii"
      ]
     },
     "execution_count": 27,
     "metadata": {},
     "output_type": "execute_result"
    }
   ],
   "source": [
    "my_favorite = ['toy story' , 'jumanji' ,'grumpier old men' ,'waiting to exhale' ,'father of the bride part ii']\n",
    "my_favorite= list(map(lambda x : x.lower(), my_favorite))\n",
    "my_favorite\n",
    "\n",
    "my_playlist = pd.DataFrame({'user_id':['howon']*5, 'title':my_favorite, 'count':[5]*5})\n",
    "\n",
    "if not ratings_title.isin({'user_id':['howon']})['user_id'].any():\n",
    "    ratings_title = ratings_title.append(my_playlist)\n",
    "    \n",
    "ratings_title.tail(10)"
   ]
  },
  {
   "cell_type": "markdown",
   "id": "f9b93be7",
   "metadata": {},
   "source": [
    "timestamp이라는 컬럼은 딱히 중요해보이지는 않아서 삭제하겠습니다."
   ]
  },
  {
   "cell_type": "code",
   "execution_count": 28,
   "id": "6fdef8ce",
   "metadata": {},
   "outputs": [
    {
     "data": {
      "text/html": [
       "<div>\n",
       "<style scoped>\n",
       "    .dataframe tbody tr th:only-of-type {\n",
       "        vertical-align: middle;\n",
       "    }\n",
       "\n",
       "    .dataframe tbody tr th {\n",
       "        vertical-align: top;\n",
       "    }\n",
       "\n",
       "    .dataframe thead th {\n",
       "        text-align: right;\n",
       "    }\n",
       "</style>\n",
       "<table border=\"1\" class=\"dataframe\">\n",
       "  <thead>\n",
       "    <tr style=\"text-align: right;\">\n",
       "      <th></th>\n",
       "      <th>user_id</th>\n",
       "      <th>movie_id</th>\n",
       "      <th>count</th>\n",
       "      <th>title</th>\n",
       "    </tr>\n",
       "  </thead>\n",
       "  <tbody>\n",
       "    <tr>\n",
       "      <th>836473</th>\n",
       "      <td>6040</td>\n",
       "      <td>1090.0</td>\n",
       "      <td>3</td>\n",
       "      <td>platoon</td>\n",
       "    </tr>\n",
       "    <tr>\n",
       "      <th>836474</th>\n",
       "      <td>6040</td>\n",
       "      <td>1094.0</td>\n",
       "      <td>5</td>\n",
       "      <td>crying game, the</td>\n",
       "    </tr>\n",
       "    <tr>\n",
       "      <th>836475</th>\n",
       "      <td>6040</td>\n",
       "      <td>562.0</td>\n",
       "      <td>5</td>\n",
       "      <td>welcome to the dollhouse</td>\n",
       "    </tr>\n",
       "    <tr>\n",
       "      <th>836476</th>\n",
       "      <td>6040</td>\n",
       "      <td>1096.0</td>\n",
       "      <td>4</td>\n",
       "      <td>sophie's choice</td>\n",
       "    </tr>\n",
       "    <tr>\n",
       "      <th>836477</th>\n",
       "      <td>6040</td>\n",
       "      <td>1097.0</td>\n",
       "      <td>4</td>\n",
       "      <td>e.t. the extra-terrestrial</td>\n",
       "    </tr>\n",
       "    <tr>\n",
       "      <th>836478</th>\n",
       "      <td>howon</td>\n",
       "      <td>NaN</td>\n",
       "      <td>5</td>\n",
       "      <td>toy story</td>\n",
       "    </tr>\n",
       "    <tr>\n",
       "      <th>836479</th>\n",
       "      <td>howon</td>\n",
       "      <td>NaN</td>\n",
       "      <td>5</td>\n",
       "      <td>jumanji</td>\n",
       "    </tr>\n",
       "    <tr>\n",
       "      <th>836480</th>\n",
       "      <td>howon</td>\n",
       "      <td>NaN</td>\n",
       "      <td>5</td>\n",
       "      <td>grumpier old men</td>\n",
       "    </tr>\n",
       "    <tr>\n",
       "      <th>836481</th>\n",
       "      <td>howon</td>\n",
       "      <td>NaN</td>\n",
       "      <td>5</td>\n",
       "      <td>waiting to exhale</td>\n",
       "    </tr>\n",
       "    <tr>\n",
       "      <th>836482</th>\n",
       "      <td>howon</td>\n",
       "      <td>NaN</td>\n",
       "      <td>5</td>\n",
       "      <td>father of the bride part ii</td>\n",
       "    </tr>\n",
       "  </tbody>\n",
       "</table>\n",
       "</div>"
      ],
      "text/plain": [
       "       user_id  movie_id  count                        title\n",
       "836473    6040    1090.0      3                      platoon\n",
       "836474    6040    1094.0      5             crying game, the\n",
       "836475    6040     562.0      5     welcome to the dollhouse\n",
       "836476    6040    1096.0      4              sophie's choice\n",
       "836477    6040    1097.0      4   e.t. the extra-terrestrial\n",
       "836478   howon       NaN      5                    toy story\n",
       "836479   howon       NaN      5                      jumanji\n",
       "836480   howon       NaN      5             grumpier old men\n",
       "836481   howon       NaN      5            waiting to exhale\n",
       "836482   howon       NaN      5  father of the bride part ii"
      ]
     },
     "execution_count": 28,
     "metadata": {},
     "output_type": "execute_result"
    }
   ],
   "source": [
    "ratings_title.reset_index(drop=True, inplace=True)\n",
    "ratings_title.drop('timestamp', axis = 1, inplace=True)\n",
    "ratings_title.tail(10)"
   ]
  },
  {
   "cell_type": "markdown",
   "id": "6ba6f147",
   "metadata": {},
   "source": [
    "---"
   ]
  },
  {
   "cell_type": "markdown",
   "id": "5c8870d3",
   "metadata": {},
   "source": [
    "### 데이터 전처리(5)\n",
    "\n",
    "이제 거의 막바지에 다왔습니다.\n",
    "\n",
    "데이터를 확인해보니 movie_id가 결측치로 되어있는것을 확인하실수 있습니다.\n",
    "\n",
    "하지만 영화 제목은 들어가 있는걸 확인하실 수 있습니다.\n",
    "\n",
    "그럼 어떤식으로 진행하면 될까여?\n",
    "\n",
    "영화제목과 movie_id를 매칭시키면 결측치를 없앨 수 있지 않을까요?\n",
    "\n",
    "바로 해보겠습니다."
   ]
  },
  {
   "cell_type": "code",
   "execution_count": 29,
   "id": "69c9f3a7",
   "metadata": {
    "scrolled": false
   },
   "outputs": [],
   "source": [
    "title2 = dict(zip(movies['title'], movies['movie_id']))"
   ]
  },
  {
   "cell_type": "code",
   "execution_count": 30,
   "id": "f4f02f8b",
   "metadata": {},
   "outputs": [
    {
     "data": {
      "text/html": [
       "<div>\n",
       "<style scoped>\n",
       "    .dataframe tbody tr th:only-of-type {\n",
       "        vertical-align: middle;\n",
       "    }\n",
       "\n",
       "    .dataframe tbody tr th {\n",
       "        vertical-align: top;\n",
       "    }\n",
       "\n",
       "    .dataframe thead th {\n",
       "        text-align: right;\n",
       "    }\n",
       "</style>\n",
       "<table border=\"1\" class=\"dataframe\">\n",
       "  <thead>\n",
       "    <tr style=\"text-align: right;\">\n",
       "      <th></th>\n",
       "      <th>user_id</th>\n",
       "      <th>movie_id</th>\n",
       "      <th>count</th>\n",
       "      <th>title</th>\n",
       "    </tr>\n",
       "  </thead>\n",
       "  <tbody>\n",
       "    <tr>\n",
       "      <th>836473</th>\n",
       "      <td>6040</td>\n",
       "      <td>1090.0</td>\n",
       "      <td>3</td>\n",
       "      <td>platoon</td>\n",
       "    </tr>\n",
       "    <tr>\n",
       "      <th>836474</th>\n",
       "      <td>6040</td>\n",
       "      <td>1094.0</td>\n",
       "      <td>5</td>\n",
       "      <td>crying game, the</td>\n",
       "    </tr>\n",
       "    <tr>\n",
       "      <th>836475</th>\n",
       "      <td>6040</td>\n",
       "      <td>562.0</td>\n",
       "      <td>5</td>\n",
       "      <td>welcome to the dollhouse</td>\n",
       "    </tr>\n",
       "    <tr>\n",
       "      <th>836476</th>\n",
       "      <td>6040</td>\n",
       "      <td>1096.0</td>\n",
       "      <td>4</td>\n",
       "      <td>sophie's choice</td>\n",
       "    </tr>\n",
       "    <tr>\n",
       "      <th>836477</th>\n",
       "      <td>6040</td>\n",
       "      <td>1097.0</td>\n",
       "      <td>4</td>\n",
       "      <td>e.t. the extra-terrestrial</td>\n",
       "    </tr>\n",
       "    <tr>\n",
       "      <th>836478</th>\n",
       "      <td>howon</td>\n",
       "      <td>3114.0</td>\n",
       "      <td>5</td>\n",
       "      <td>toy story</td>\n",
       "    </tr>\n",
       "    <tr>\n",
       "      <th>836479</th>\n",
       "      <td>howon</td>\n",
       "      <td>2.0</td>\n",
       "      <td>5</td>\n",
       "      <td>jumanji</td>\n",
       "    </tr>\n",
       "    <tr>\n",
       "      <th>836480</th>\n",
       "      <td>howon</td>\n",
       "      <td>3.0</td>\n",
       "      <td>5</td>\n",
       "      <td>grumpier old men</td>\n",
       "    </tr>\n",
       "    <tr>\n",
       "      <th>836481</th>\n",
       "      <td>howon</td>\n",
       "      <td>4.0</td>\n",
       "      <td>5</td>\n",
       "      <td>waiting to exhale</td>\n",
       "    </tr>\n",
       "    <tr>\n",
       "      <th>836482</th>\n",
       "      <td>howon</td>\n",
       "      <td>5.0</td>\n",
       "      <td>5</td>\n",
       "      <td>father of the bride part ii</td>\n",
       "    </tr>\n",
       "  </tbody>\n",
       "</table>\n",
       "</div>"
      ],
      "text/plain": [
       "       user_id  movie_id  count                        title\n",
       "836473    6040    1090.0      3                      platoon\n",
       "836474    6040    1094.0      5             crying game, the\n",
       "836475    6040     562.0      5     welcome to the dollhouse\n",
       "836476    6040    1096.0      4              sophie's choice\n",
       "836477    6040    1097.0      4   e.t. the extra-terrestrial\n",
       "836478   howon    3114.0      5                    toy story\n",
       "836479   howon       2.0      5                      jumanji\n",
       "836480   howon       3.0      5             grumpier old men\n",
       "836481   howon       4.0      5            waiting to exhale\n",
       "836482   howon       5.0      5  father of the bride part ii"
      ]
     },
     "execution_count": 30,
     "metadata": {},
     "output_type": "execute_result"
    }
   ],
   "source": [
    "# 추가한 5개의 영화에 대해서 movie_id를\n",
    "# 위에서 만든 title2id 딕셔너리를 사용해서 채워준다.\n",
    "for idx in range(836478, 836483) :\n",
    "    m_idx = title2[ratings_title.loc[idx]['title']]\n",
    "    ratings_title.loc[idx] = ratings_title.loc[idx].fillna(m_idx)\n",
    "\n",
    "ratings_title.tail(10)"
   ]
  },
  {
   "cell_type": "code",
   "execution_count": 31,
   "id": "7d773255",
   "metadata": {},
   "outputs": [],
   "source": [
    "# 고유한 유저, 영화명을 찾아내는 코드\n",
    "user_unique = ratings_title['user_id'].unique()\n",
    "movie_unique = ratings_title['title'].unique()\n",
    "\n",
    "# 유저, 영화 indexing하는 코드 idx는 index의 약자\n",
    "user_to_idx = {v:k for k, v in enumerate(user_unique)}\n",
    "movie_to_idx = {v:k for k, v in enumerate(movie_unique)}"
   ]
  },
  {
   "cell_type": "code",
   "execution_count": 32,
   "id": "b7344a98",
   "metadata": {},
   "outputs": [
    {
     "name": "stdout",
     "output_type": "stream",
     "text": [
      "6039\n",
      "40\n"
     ]
    }
   ],
   "source": [
    "print(user_to_idx['howon'])\n",
    "print(movie_to_idx['toy story'])"
   ]
  },
  {
   "cell_type": "code",
   "execution_count": 33,
   "id": "dccc2a9a",
   "metadata": {},
   "outputs": [
    {
     "name": "stdout",
     "output_type": "stream",
     "text": [
      "user_id ok!!\n",
      "movie ok!!\n"
     ]
    },
    {
     "data": {
      "text/html": [
       "<div>\n",
       "<style scoped>\n",
       "    .dataframe tbody tr th:only-of-type {\n",
       "        vertical-align: middle;\n",
       "    }\n",
       "\n",
       "    .dataframe tbody tr th {\n",
       "        vertical-align: top;\n",
       "    }\n",
       "\n",
       "    .dataframe thead th {\n",
       "        text-align: right;\n",
       "    }\n",
       "</style>\n",
       "<table border=\"1\" class=\"dataframe\">\n",
       "  <thead>\n",
       "    <tr style=\"text-align: right;\">\n",
       "      <th></th>\n",
       "      <th>user_id</th>\n",
       "      <th>movie_id</th>\n",
       "      <th>count</th>\n",
       "      <th>title</th>\n",
       "    </tr>\n",
       "  </thead>\n",
       "  <tbody>\n",
       "    <tr>\n",
       "      <th>0</th>\n",
       "      <td>0</td>\n",
       "      <td>1193.0</td>\n",
       "      <td>5</td>\n",
       "      <td>0</td>\n",
       "    </tr>\n",
       "    <tr>\n",
       "      <th>1</th>\n",
       "      <td>0</td>\n",
       "      <td>661.0</td>\n",
       "      <td>3</td>\n",
       "      <td>1</td>\n",
       "    </tr>\n",
       "    <tr>\n",
       "      <th>2</th>\n",
       "      <td>0</td>\n",
       "      <td>914.0</td>\n",
       "      <td>3</td>\n",
       "      <td>2</td>\n",
       "    </tr>\n",
       "    <tr>\n",
       "      <th>3</th>\n",
       "      <td>0</td>\n",
       "      <td>3408.0</td>\n",
       "      <td>4</td>\n",
       "      <td>3</td>\n",
       "    </tr>\n",
       "    <tr>\n",
       "      <th>4</th>\n",
       "      <td>0</td>\n",
       "      <td>2355.0</td>\n",
       "      <td>5</td>\n",
       "      <td>4</td>\n",
       "    </tr>\n",
       "    <tr>\n",
       "      <th>...</th>\n",
       "      <td>...</td>\n",
       "      <td>...</td>\n",
       "      <td>...</td>\n",
       "      <td>...</td>\n",
       "    </tr>\n",
       "    <tr>\n",
       "      <th>836478</th>\n",
       "      <td>6039</td>\n",
       "      <td>3114.0</td>\n",
       "      <td>5</td>\n",
       "      <td>40</td>\n",
       "    </tr>\n",
       "    <tr>\n",
       "      <th>836479</th>\n",
       "      <td>6039</td>\n",
       "      <td>2.0</td>\n",
       "      <td>5</td>\n",
       "      <td>508</td>\n",
       "    </tr>\n",
       "    <tr>\n",
       "      <th>836480</th>\n",
       "      <td>6039</td>\n",
       "      <td>3.0</td>\n",
       "      <td>5</td>\n",
       "      <td>1824</td>\n",
       "    </tr>\n",
       "    <tr>\n",
       "      <th>836481</th>\n",
       "      <td>6039</td>\n",
       "      <td>4.0</td>\n",
       "      <td>5</td>\n",
       "      <td>395</td>\n",
       "    </tr>\n",
       "    <tr>\n",
       "      <th>836482</th>\n",
       "      <td>6039</td>\n",
       "      <td>5.0</td>\n",
       "      <td>5</td>\n",
       "      <td>1157</td>\n",
       "    </tr>\n",
       "  </tbody>\n",
       "</table>\n",
       "<p>836483 rows × 4 columns</p>\n",
       "</div>"
      ],
      "text/plain": [
       "        user_id  movie_id  count  title\n",
       "0             0    1193.0      5      0\n",
       "1             0     661.0      3      1\n",
       "2             0     914.0      3      2\n",
       "3             0    3408.0      4      3\n",
       "4             0    2355.0      5      4\n",
       "...         ...       ...    ...    ...\n",
       "836478     6039    3114.0      5     40\n",
       "836479     6039       2.0      5    508\n",
       "836480     6039       3.0      5   1824\n",
       "836481     6039       4.0      5    395\n",
       "836482     6039       5.0      5   1157\n",
       "\n",
       "[836483 rows x 4 columns]"
      ]
     },
     "execution_count": 33,
     "metadata": {},
     "output_type": "execute_result"
    }
   ],
   "source": [
    "#유저아이디와 인덱스를 매핑 시키고 그 상황에서 결측치인것은 삭제\n",
    "temp_user_data = ratings_title['user_id'].map(user_to_idx.get).dropna()\n",
    "if len(temp_user_data) == len(ratings_title): \n",
    "    print('user_id ok!!')\n",
    "    ratings_title['user_id'] = temp_user_data\n",
    "else :\n",
    "    print('user_id fail')\n",
    "\n",
    "#영화제목을 movie_idx와 매핑 시켜주고 그래도 결측치인 것은 삭제   \n",
    "temp_movie_data = ratings_title['title'].map(movie_to_idx.get).dropna()\n",
    "if len(temp_movie_data) == len(ratings_title) :\n",
    "    print('movie ok!!')\n",
    "    ratings_title['title'] = temp_movie_data\n",
    "else :\n",
    "    print('movie fail')\n",
    "    \n",
    "ratings_title"
   ]
  },
  {
   "cell_type": "code",
   "execution_count": 34,
   "id": "a548d6f7",
   "metadata": {},
   "outputs": [
    {
     "data": {
      "text/html": [
       "<div>\n",
       "<style scoped>\n",
       "    .dataframe tbody tr th:only-of-type {\n",
       "        vertical-align: middle;\n",
       "    }\n",
       "\n",
       "    .dataframe tbody tr th {\n",
       "        vertical-align: top;\n",
       "    }\n",
       "\n",
       "    .dataframe thead th {\n",
       "        text-align: right;\n",
       "    }\n",
       "</style>\n",
       "<table border=\"1\" class=\"dataframe\">\n",
       "  <thead>\n",
       "    <tr style=\"text-align: right;\">\n",
       "      <th></th>\n",
       "      <th>user_id</th>\n",
       "      <th>movie_id</th>\n",
       "      <th>count</th>\n",
       "      <th>title</th>\n",
       "    </tr>\n",
       "  </thead>\n",
       "  <tbody>\n",
       "    <tr>\n",
       "      <th>0</th>\n",
       "      <td>0</td>\n",
       "      <td>1193</td>\n",
       "      <td>5</td>\n",
       "      <td>0</td>\n",
       "    </tr>\n",
       "    <tr>\n",
       "      <th>1</th>\n",
       "      <td>0</td>\n",
       "      <td>661</td>\n",
       "      <td>3</td>\n",
       "      <td>1</td>\n",
       "    </tr>\n",
       "    <tr>\n",
       "      <th>2</th>\n",
       "      <td>0</td>\n",
       "      <td>914</td>\n",
       "      <td>3</td>\n",
       "      <td>2</td>\n",
       "    </tr>\n",
       "    <tr>\n",
       "      <th>3</th>\n",
       "      <td>0</td>\n",
       "      <td>3408</td>\n",
       "      <td>4</td>\n",
       "      <td>3</td>\n",
       "    </tr>\n",
       "    <tr>\n",
       "      <th>4</th>\n",
       "      <td>0</td>\n",
       "      <td>2355</td>\n",
       "      <td>5</td>\n",
       "      <td>4</td>\n",
       "    </tr>\n",
       "    <tr>\n",
       "      <th>...</th>\n",
       "      <td>...</td>\n",
       "      <td>...</td>\n",
       "      <td>...</td>\n",
       "      <td>...</td>\n",
       "    </tr>\n",
       "    <tr>\n",
       "      <th>836478</th>\n",
       "      <td>6039</td>\n",
       "      <td>3114</td>\n",
       "      <td>5</td>\n",
       "      <td>40</td>\n",
       "    </tr>\n",
       "    <tr>\n",
       "      <th>836479</th>\n",
       "      <td>6039</td>\n",
       "      <td>2</td>\n",
       "      <td>5</td>\n",
       "      <td>508</td>\n",
       "    </tr>\n",
       "    <tr>\n",
       "      <th>836480</th>\n",
       "      <td>6039</td>\n",
       "      <td>3</td>\n",
       "      <td>5</td>\n",
       "      <td>1824</td>\n",
       "    </tr>\n",
       "    <tr>\n",
       "      <th>836481</th>\n",
       "      <td>6039</td>\n",
       "      <td>4</td>\n",
       "      <td>5</td>\n",
       "      <td>395</td>\n",
       "    </tr>\n",
       "    <tr>\n",
       "      <th>836482</th>\n",
       "      <td>6039</td>\n",
       "      <td>5</td>\n",
       "      <td>5</td>\n",
       "      <td>1157</td>\n",
       "    </tr>\n",
       "  </tbody>\n",
       "</table>\n",
       "<p>836483 rows × 4 columns</p>\n",
       "</div>"
      ],
      "text/plain": [
       "        user_id  movie_id  count  title\n",
       "0             0      1193      5      0\n",
       "1             0       661      3      1\n",
       "2             0       914      3      2\n",
       "3             0      3408      4      3\n",
       "4             0      2355      5      4\n",
       "...         ...       ...    ...    ...\n",
       "836478     6039      3114      5     40\n",
       "836479     6039         2      5    508\n",
       "836480     6039         3      5   1824\n",
       "836481     6039         4      5    395\n",
       "836482     6039         5      5   1157\n",
       "\n",
       "[836483 rows x 4 columns]"
      ]
     },
     "execution_count": 34,
     "metadata": {},
     "output_type": "execute_result"
    }
   ],
   "source": [
    "# movie_id의 type을 int형으로 변경\n",
    "ratings_title['movie_id'] = ratings_title['movie_id'].astype(np.int64)\n",
    "ratings_title"
   ]
  },
  {
   "cell_type": "markdown",
   "id": "dbff6198",
   "metadata": {},
   "source": [
    "---"
   ]
  },
  {
   "cell_type": "markdown",
   "id": "700a0a32",
   "metadata": {},
   "source": [
    "## csr_matrix 만들기"
   ]
  },
  {
   "attachments": {
    "Screen_Shot_2022-02-10_at_4.29.43_PM.max-800x600.png": {
     "image/png": "[encoded data removed]"
    }
   },
   "cell_type": "markdown",
   "id": "72b439c6",
   "metadata": {},
   "source": [
    "### csr_matrix 만들기(1)\n",
    "\n",
    "csr_matrix란?\n",
    "\n",
    "parse한 matrix에서 0이 아닌 유효한 데이터로 채워지는 데이터의 값과 좌표 정보만으로 \n",
    "\n",
    "구성하여 메모리 사용량을 최소화하면서도 Sparse한 matrix와 동일한 행렬을 \n",
    "\n",
    "표현할 수 있도록 하는 데이터 구조입니다.\n",
    "\n",
    "![Screen_Shot_2022-02-10_at_4.29.43_PM.max-800x600.png](attachment:Screen_Shot_2022-02-10_at_4.29.43_PM.max-800x600.png)\n",
    "\n",
    "위의 그림처럼 되어있습니다."
   ]
  },
  {
   "cell_type": "code",
   "execution_count": 35,
   "id": "39bf58c8",
   "metadata": {},
   "outputs": [
    {
     "data": {
      "text/plain": [
       "<6040x3548 sparse matrix of type '<class 'numpy.int64'>'\n",
       "\twith 827567 stored elements in Compressed Sparse Row format>"
      ]
     },
     "execution_count": 35,
     "metadata": {},
     "output_type": "execute_result"
    }
   ],
   "source": [
    "from scipy.sparse import csr_matrix\n",
    "\n",
    "num_user = ratings_title['user_id'].nunique()\n",
    "num_movie = ratings_title['title'].nunique()\n",
    "\n",
    "csr_data = csr_matrix((ratings_title['count'].values, (ratings_title['user_id'].values, ratings_title['title'].values)) , shape= (num_user, num_movie))\n",
    "csr_data"
   ]
  },
  {
   "cell_type": "code",
   "execution_count": 36,
   "id": "1a01fbaf",
   "metadata": {},
   "outputs": [
    {
     "data": {
      "text/plain": [
       "(6040, 3548)"
      ]
     },
     "execution_count": 36,
     "metadata": {},
     "output_type": "execute_result"
    }
   ],
   "source": [
    "num_user, num_movie"
   ]
  },
  {
   "cell_type": "markdown",
   "id": "6d1227c6",
   "metadata": {},
   "source": [
    "---"
   ]
  },
  {
   "cell_type": "markdown",
   "id": "8e851793",
   "metadata": {},
   "source": [
    "## 모델 만들기"
   ]
  },
  {
   "cell_type": "markdown",
   "id": "0b9a74f3",
   "metadata": {},
   "source": [
    "### implicit 사용한 모델 제작"
   ]
  },
  {
   "cell_type": "code",
   "execution_count": 37,
   "id": "85d07cbc",
   "metadata": {},
   "outputs": [],
   "source": [
    "os.environ['OPENBLAS_NUM_THREADS']='1'\n",
    "os.environ['KMP_DUPLICATE_LIB_OK']='True'\n",
    "os.environ['MKL_NUM_THREADS']='1'"
   ]
  },
  {
   "cell_type": "code",
   "execution_count": 38,
   "id": "6f4efcf8",
   "metadata": {},
   "outputs": [],
   "source": [
    "from implicit.als import AlternatingLeastSquares\n",
    "als_model = AlternatingLeastSquares(factors=100, regularization=0.01, use_gpu=False, iterations=15, dtype=np.float32)"
   ]
  },
  {
   "cell_type": "markdown",
   "id": "28008441",
   "metadata": {},
   "source": [
    "---"
   ]
  },
  {
   "cell_type": "markdown",
   "id": "03b644bc",
   "metadata": {},
   "source": [
    "## 모델 학습 및 결과 확인"
   ]
  },
  {
   "cell_type": "markdown",
   "id": "58792f44",
   "metadata": {},
   "source": [
    "### 전치 행렬로 변환"
   ]
  },
  {
   "cell_type": "code",
   "execution_count": 39,
   "id": "3deb5c9c",
   "metadata": {},
   "outputs": [
    {
     "data": {
      "text/plain": [
       "<3548x6040 sparse matrix of type '<class 'numpy.int64'>'\n",
       "\twith 827567 stored elements in Compressed Sparse Column format>"
      ]
     },
     "execution_count": 39,
     "metadata": {},
     "output_type": "execute_result"
    }
   ],
   "source": [
    "# als 모델은 input으로 (item X user 꼴의 matrix를 받기 때문에 Transpose해줍니다.)\n",
    "csr_data_transpose = csr_data.T\n",
    "csr_data_transpose"
   ]
  },
  {
   "cell_type": "markdown",
   "id": "c301bfee",
   "metadata": {},
   "source": [
    "---"
   ]
  },
  {
   "cell_type": "markdown",
   "id": "80e1d5f1",
   "metadata": {},
   "source": [
    "### 모델 학습"
   ]
  },
  {
   "cell_type": "code",
   "execution_count": 40,
   "id": "c69b79d2",
   "metadata": {},
   "outputs": [
    {
     "data": {
      "application/vnd.jupyter.widget-view+json": {
       "model_id": "ae3d2520dbdb40fb8e0f33a49f1e781f",
       "version_major": 2,
       "version_minor": 0
      },
      "text/plain": [
       "  0%|          | 0/15 [00:00<?, ?it/s]"
      ]
     },
     "metadata": {},
     "output_type": "display_data"
    }
   ],
   "source": [
    "# 모델 훈련\n",
    "als_model.fit(csr_data_transpose)"
   ]
  },
  {
   "cell_type": "markdown",
   "id": "6fe0af2f",
   "metadata": {},
   "source": [
    "---"
   ]
  },
  {
   "cell_type": "markdown",
   "id": "114e4bcd",
   "metadata": {},
   "source": [
    "### 학습 결과 확인\n",
    "\n",
    "- jumanji라는 영화 이름을 넣고 결과를 확인해보겠음"
   ]
  },
  {
   "cell_type": "code",
   "execution_count": 41,
   "id": "eaa0ae23",
   "metadata": {},
   "outputs": [
    {
     "data": {
      "text/plain": [
       "array([-0.2919356 , -0.7120582 , -0.07619209,  0.6293319 ,  0.4370481 ,\n",
       "        0.25117078,  0.28127915,  0.2882286 , -0.16407132, -0.7724664 ,\n",
       "       -0.1085931 , -0.0378891 ,  0.1303168 , -0.18995544,  0.24616173,\n",
       "        0.84776574, -0.07800345, -0.9024365 ,  0.5502629 , -0.23722635,\n",
       "        0.5331194 ,  0.57492214,  0.46622217,  0.47547835, -0.3496314 ,\n",
       "       -0.6727496 , -0.28601784, -0.21387018,  0.04268099, -0.32095727,\n",
       "       -0.13940491,  0.40267566, -0.38235918, -0.13732351, -0.6821036 ,\n",
       "        0.30758545,  0.2826785 , -0.06416842, -0.05659377,  0.02042666,\n",
       "       -0.33679315, -0.6153958 ,  0.81657046,  0.20249905,  0.00259046,\n",
       "       -0.4937512 , -0.47040778, -0.27303317,  0.3917727 , -0.01087935,\n",
       "        0.2682669 ,  0.8332576 , -0.41928676,  0.14652865, -0.14748915,\n",
       "       -0.20646107,  0.04573577,  0.7009812 ,  0.13116793,  0.76072925,\n",
       "       -0.654083  ,  0.2601319 ,  0.61831474, -0.18700774, -0.13096455,\n",
       "       -0.47787464, -0.4478188 , -0.25822142,  0.4240451 , -0.5605835 ,\n",
       "       -0.33667326,  0.12503442,  0.46149766, -0.22558081, -0.5327303 ,\n",
       "       -0.15010771, -0.28705513,  0.40396816, -0.07283245,  0.39278677,\n",
       "       -0.08363841, -0.46850702,  0.37892127,  0.9676118 ,  0.5253408 ,\n",
       "        0.60930556, -0.00759058,  0.17556377,  0.3585039 , -0.659935  ,\n",
       "        0.11164373,  0.40312007,  0.508347  ,  0.3096502 , -0.5251581 ,\n",
       "       -0.02005672, -1.2062438 ,  0.746688  ,  0.14681415,  0.00720627],\n",
       "      dtype=float32)"
      ]
     },
     "execution_count": 41,
     "metadata": {},
     "output_type": "execute_result"
    }
   ],
   "source": [
    "howon, jumanji = user_to_idx['howon'], movie_to_idx['jumanji']\n",
    "howon_vector, jumanji_vector = als_model.user_factors[howon], als_model.item_factors[jumanji]\n",
    "howon_vector"
   ]
  },
  {
   "cell_type": "code",
   "execution_count": 42,
   "id": "24bfa822",
   "metadata": {},
   "outputs": [
    {
     "data": {
      "text/plain": [
       "array([ 0.00323552,  0.01107751,  0.02145449,  0.01447873,  0.01348083,\n",
       "       -0.01250626,  0.00162948, -0.0088886 , -0.01609576, -0.01711615,\n",
       "        0.00976511, -0.02263722,  0.01490459, -0.01162901,  0.00719597,\n",
       "        0.00407539,  0.00753915, -0.00937729,  0.00550155,  0.03319505,\n",
       "        0.01550916,  0.00449279,  0.02946272,  0.02307026, -0.00573784,\n",
       "       -0.00358038, -0.00281357,  0.00289238,  0.01083498, -0.01192366,\n",
       "       -0.00823692,  0.0241908 , -0.00028429, -0.0118984 , -0.0122841 ,\n",
       "       -0.00827361,  0.02208996,  0.01380047,  0.01391849, -0.00191448,\n",
       "       -0.00910758,  0.01416548,  0.01639487,  0.00272667,  0.02390603,\n",
       "       -0.01490853, -0.01290504,  0.00012299,  0.00590496,  0.02727851,\n",
       "        0.00072864,  0.02955882, -0.00471503,  0.00113028, -0.00425553,\n",
       "        0.00158297,  0.00462007,  0.0166722 ,  0.01689152,  0.00868521,\n",
       "        0.008161  ,  0.01827838,  0.03074193, -0.01980624,  0.00856652,\n",
       "        0.03556683, -0.00406757, -0.00359263,  0.00356494,  0.00435155,\n",
       "        0.00134349,  0.02062768,  0.01971251, -0.00208777, -0.01117884,\n",
       "        0.01447208, -0.00879866,  0.0260789 ,  0.00349094, -0.00169152,\n",
       "        0.02412325,  0.00021342,  0.02451899,  0.035983  ,  0.01688402,\n",
       "        0.00551069,  0.0021057 ,  0.02205695, -0.0092025 , -0.00695972,\n",
       "        0.01795083,  0.02997013,  0.00260296, -0.00247963,  0.01260515,\n",
       "        0.00711086, -0.0156818 ,  0.01120848,  0.03601171,  0.02955645],\n",
       "      dtype=float32)"
      ]
     },
     "execution_count": 42,
     "metadata": {},
     "output_type": "execute_result"
    }
   ],
   "source": [
    "jumanji_vector"
   ]
  },
  {
   "cell_type": "markdown",
   "id": "1465b238",
   "metadata": {},
   "source": [
    "---"
   ]
  },
  {
   "cell_type": "markdown",
   "id": "89a9697e",
   "metadata": {},
   "source": [
    "### 벡터 결과를 내적하여 확률값 계산\n",
    "\n",
    "나온 벡터 결과들을 dot 함수를 사용하여 내적하면 확률값을 구할수가 있습니다.\n",
    "\n",
    "저는 30퍼 정도가 나왔네요.....\n",
    "\n",
    "이 영화를 보면 후회하겠네요"
   ]
  },
  {
   "cell_type": "code",
   "execution_count": 43,
   "id": "cdafb510",
   "metadata": {},
   "outputs": [
    {
     "data": {
      "text/plain": [
       "0.30004254"
      ]
     },
     "execution_count": 43,
     "metadata": {},
     "output_type": "execute_result"
    }
   ],
   "source": [
    "np.dot(howon_vector, jumanji_vector)"
   ]
  },
  {
   "cell_type": "markdown",
   "id": "5c6c8169",
   "metadata": {},
   "source": [
    "이번껀 3퍼가 나왔네요 ㅎㅎㅎㅎㅎ"
   ]
  },
  {
   "cell_type": "code",
   "execution_count": 44,
   "id": "84ffbbc6",
   "metadata": {},
   "outputs": [
    {
     "data": {
      "text/plain": [
       "0.03678559"
      ]
     },
     "execution_count": 44,
     "metadata": {},
     "output_type": "execute_result"
    }
   ],
   "source": [
    "saving = movie_to_idx['platoon']\n",
    "saving_vector = als_model.item_factors[saving]\n",
    "np.dot(howon_vector, saving_vector)"
   ]
  },
  {
   "cell_type": "markdown",
   "id": "664a9ac5",
   "metadata": {},
   "source": [
    "---"
   ]
  },
  {
   "cell_type": "markdown",
   "id": "4df8846f",
   "metadata": {},
   "source": [
    "### 비슷한 영화 추천해주기\n",
    "\n",
    "이번에는 영화를 하나 입력해보고 그거와 유사한 영화를 확인해보겠습니다.\n",
    "\n",
    "platoon라는 영화로 확인을 해봤습니다."
   ]
  },
  {
   "cell_type": "code",
   "execution_count": 45,
   "id": "58dc1cb7",
   "metadata": {},
   "outputs": [
    {
     "data": {
      "text/plain": [
       "[(1010, 0.99999976),\n",
       " (1344, 0.58392113),\n",
       " (1062, 0.5812317),\n",
       " (951, 0.5743194),\n",
       " (771, 0.54492277),\n",
       " (1276, 0.51999396),\n",
       " (716, 0.49887365),\n",
       " (1778, 0.48498788),\n",
       " (1340, 0.47896957),\n",
       " (1159, 0.4631568),\n",
       " (971, 0.45345223),\n",
       " (3013, 0.44665155),\n",
       " (1774, 0.43511054),\n",
       " (1155, 0.40621018),\n",
       " (1385, 0.3860764)]"
      ]
     },
     "execution_count": 45,
     "metadata": {},
     "output_type": "execute_result"
    }
   ],
   "source": [
    "favorite_movie = 'platoon'\n",
    "movie_id = movie_to_idx[favorite_movie]\n",
    "similar_movie = als_model.similar_items(movie_id, N=15)\n",
    "similar_movie"
   ]
  },
  {
   "cell_type": "markdown",
   "id": "e3ac5ab5",
   "metadata": {},
   "source": [
    "역시나 튜플 형식으로 나오는군요\n",
    "\n",
    "제목이 보이게 바꾸어줍시다.\n",
    "\n",
    "바꾸면서 추천 점수까지 같이 보여지도록 해보겠습니다."
   ]
  },
  {
   "cell_type": "code",
   "execution_count": 46,
   "id": "6f017a08",
   "metadata": {},
   "outputs": [
    {
     "name": "stdout",
     "output_type": "stream",
     "text": [
      "platoon : 0.99999976\n",
      "killing fields, the : 0.58392113\n",
      "full metal jacket : 0.5812317\n",
      "last emperor, the : 0.5743194\n",
      "deer hunter, the : 0.54492277\n",
      "apocalypse now : 0.51999396\n",
      "good morning, vietnam : 0.49887365\n",
      "pink floyd - the wall : 0.48498788\n",
      "patton : 0.47896957\n",
      "red dawn : 0.4631568\n",
      "glory : 0.45345223\n",
      "open season : 0.44665155\n",
      "raging bull : 0.43511054\n",
      "hoosiers : 0.40621018\n",
      "right stuff, the : 0.3860764\n"
     ]
    }
   ],
   "source": [
    "idx_to_movie = {v:k for k,v in movie_to_idx.items()}\n",
    "for i, j in similar_movie:\n",
    "    print(idx_to_movie[i], \":\", j)"
   ]
  },
  {
   "cell_type": "code",
   "execution_count": 47,
   "id": "1ac36431",
   "metadata": {},
   "outputs": [],
   "source": [
    "def get_similar_artist(movie_name: str):\n",
    "    movie_id = movie_to_idx[movie_name]\n",
    "    similar_movie = als_model.similar_items(movie_id)\n",
    "    similar_movie = [idx_to_movie[i[0]] for i in similar_movie]\n",
    "    return similar_movie"
   ]
  },
  {
   "cell_type": "markdown",
   "id": "2c79e57c",
   "metadata": {},
   "source": [
    "---"
   ]
  },
  {
   "cell_type": "markdown",
   "id": "c13dda22",
   "metadata": {},
   "source": [
    "### 사용자에게 영화 추천\n",
    "\n",
    "이번에는 사용자에게 직접 영화를 추천해보겠습니다.\n",
    "\n",
    "20개 정도 추천을 해보도록 하겠습니다."
   ]
  },
  {
   "cell_type": "code",
   "execution_count": 48,
   "id": "4f75357b",
   "metadata": {},
   "outputs": [
    {
     "data": {
      "text/plain": [
       "[(4, 0.32425487),\n",
       " (320, 0.2981775),\n",
       " (539, 0.27795815),\n",
       " (1023, 0.24313694),\n",
       " (59, 0.21882033),\n",
       " (589, 0.21463028),\n",
       " (455, 0.21158618),\n",
       " (502, 0.20686856),\n",
       " (38, 0.20403814),\n",
       " (1671, 0.17985871),\n",
       " (33, 0.17965671),\n",
       " (172, 0.17347509),\n",
       " (328, 0.17244488),\n",
       " (432, 0.17062),\n",
       " (118, 0.16630149),\n",
       " (615, 0.16180989),\n",
       " (1107, 0.15965937),\n",
       " (1068, 0.15956517),\n",
       " (1940, 0.1573891),\n",
       " (125, 0.15121423)]"
      ]
     },
     "execution_count": 48,
     "metadata": {},
     "output_type": "execute_result"
    }
   ],
   "source": [
    "user = user_to_idx['howon']\n",
    "movie_recommend = als_model.recommend(user, csr_data, N=20, filter_already_liked_items=True)\n",
    "movie_recommend"
   ]
  },
  {
   "cell_type": "code",
   "execution_count": 49,
   "id": "bfcaf6bc",
   "metadata": {},
   "outputs": [
    {
     "name": "stdout",
     "output_type": "stream",
     "text": [
      "waiting to exhale  : 0.32425487\n",
      "suture  : 0.2981775\n",
      "sleepless in seattle  : 0.27795815\n",
      "winnie the pooh and the blustery day  : 0.24313694\n",
      "confessional, the (le confessionnal  : 0.21882033\n",
      "terminator 2: judgment day  : 0.21463028\n",
      "free willy  : 0.21158618\n",
      "next karate kid, the  : 0.20686856\n",
      "it takes two  : 0.20403814\n",
      "deceiver  : 0.17985871\n",
      "wings of courage  : 0.17965671\n",
      "johnny mnemonic  : 0.17347509\n",
      "tales from the crypt presents: demon knight  : 0.17244488\n",
      "city slickers ii: the legend of curly's gold  : 0.17062\n",
      "if lucy fell  : 0.16630149\n",
      "bread and chocolate (pane e cioccolata  : 0.16180989\n",
      "loser  : 0.15965937\n",
      "crossfire  : 0.15956517\n",
      "gentleman's agreement  : 0.1573891\n",
      "flirting with disaster  : 0.15121423\n"
     ]
    }
   ],
   "source": [
    "for i, k in movie_recommend:\n",
    "    print(movies[movies['movie_id']==i]['title'].values[0],' :',k)"
   ]
  },
  {
   "cell_type": "markdown",
   "id": "165969d3",
   "metadata": {},
   "source": [
    "---"
   ]
  },
  {
   "cell_type": "markdown",
   "id": "cad0c653",
   "metadata": {},
   "source": [
    "### 데이터 프레임으로 결과 시각화\n",
    "\n",
    "데이터 프레임 형식으로 결과를 출력해보겠습니다."
   ]
  },
  {
   "cell_type": "code",
   "execution_count": 50,
   "id": "d80faed7",
   "metadata": {},
   "outputs": [
    {
     "data": {
      "text/html": [
       "<div>\n",
       "<style scoped>\n",
       "    .dataframe tbody tr th:only-of-type {\n",
       "        vertical-align: middle;\n",
       "    }\n",
       "\n",
       "    .dataframe tbody tr th {\n",
       "        vertical-align: top;\n",
       "    }\n",
       "\n",
       "    .dataframe thead th {\n",
       "        text-align: right;\n",
       "    }\n",
       "</style>\n",
       "<table border=\"1\" class=\"dataframe\">\n",
       "  <thead>\n",
       "    <tr style=\"text-align: right;\">\n",
       "      <th></th>\n",
       "      <th>title</th>\n",
       "      <th>genre</th>\n",
       "    </tr>\n",
       "  </thead>\n",
       "  <tbody>\n",
       "    <tr>\n",
       "      <th>3</th>\n",
       "      <td>waiting to exhale</td>\n",
       "      <td>Comedy|Drama</td>\n",
       "    </tr>\n",
       "    <tr>\n",
       "      <th>32</th>\n",
       "      <td>wings of courage</td>\n",
       "      <td>Adventure|Romance</td>\n",
       "    </tr>\n",
       "    <tr>\n",
       "      <th>37</th>\n",
       "      <td>it takes two</td>\n",
       "      <td>Comedy</td>\n",
       "    </tr>\n",
       "    <tr>\n",
       "      <th>58</th>\n",
       "      <td>confessional, the (le confessionnal</td>\n",
       "      <td>Drama|Mystery</td>\n",
       "    </tr>\n",
       "    <tr>\n",
       "      <th>116</th>\n",
       "      <td>if lucy fell</td>\n",
       "      <td>Comedy|Romance</td>\n",
       "    </tr>\n",
       "    <tr>\n",
       "      <th>123</th>\n",
       "      <td>flirting with disaster</td>\n",
       "      <td>Comedy</td>\n",
       "    </tr>\n",
       "    <tr>\n",
       "      <th>170</th>\n",
       "      <td>johnny mnemonic</td>\n",
       "      <td>Action|Sci-Fi|Thriller</td>\n",
       "    </tr>\n",
       "    <tr>\n",
       "      <th>317</th>\n",
       "      <td>suture</td>\n",
       "      <td>Film-Noir|Thriller</td>\n",
       "    </tr>\n",
       "    <tr>\n",
       "      <th>324</th>\n",
       "      <td>tales from the crypt presents: demon knight</td>\n",
       "      <td>Horror</td>\n",
       "    </tr>\n",
       "    <tr>\n",
       "      <th>428</th>\n",
       "      <td>city slickers ii: the legend of curly's gold</td>\n",
       "      <td>Comedy|Western</td>\n",
       "    </tr>\n",
       "    <tr>\n",
       "      <th>451</th>\n",
       "      <td>free willy</td>\n",
       "      <td>Adventure|Children's|Drama</td>\n",
       "    </tr>\n",
       "    <tr>\n",
       "      <th>498</th>\n",
       "      <td>next karate kid, the</td>\n",
       "      <td>Action|Children's</td>\n",
       "    </tr>\n",
       "    <tr>\n",
       "      <th>535</th>\n",
       "      <td>sleepless in seattle</td>\n",
       "      <td>Comedy|Romance</td>\n",
       "    </tr>\n",
       "    <tr>\n",
       "      <th>585</th>\n",
       "      <td>terminator 2: judgment day</td>\n",
       "      <td>Action|Sci-Fi|Thriller</td>\n",
       "    </tr>\n",
       "    <tr>\n",
       "      <th>611</th>\n",
       "      <td>bread and chocolate (pane e cioccolata</td>\n",
       "      <td>Drama</td>\n",
       "    </tr>\n",
       "    <tr>\n",
       "      <th>1010</th>\n",
       "      <td>winnie the pooh and the blustery day</td>\n",
       "      <td>Animation|Children's</td>\n",
       "    </tr>\n",
       "    <tr>\n",
       "      <th>1054</th>\n",
       "      <td>crossfire</td>\n",
       "      <td>Crime|Film-Noir</td>\n",
       "    </tr>\n",
       "    <tr>\n",
       "      <th>1091</th>\n",
       "      <td>loser</td>\n",
       "      <td>Comedy</td>\n",
       "    </tr>\n",
       "    <tr>\n",
       "      <th>1625</th>\n",
       "      <td>deceiver</td>\n",
       "      <td>Crime</td>\n",
       "    </tr>\n",
       "    <tr>\n",
       "      <th>1871</th>\n",
       "      <td>gentleman's agreement</td>\n",
       "      <td>Drama</td>\n",
       "    </tr>\n",
       "  </tbody>\n",
       "</table>\n",
       "</div>"
      ],
      "text/plain": [
       "                                             title                       genre\n",
       "3                                waiting to exhale                Comedy|Drama\n",
       "32                                wings of courage           Adventure|Romance\n",
       "37                                    it takes two                      Comedy\n",
       "58             confessional, the (le confessionnal               Drama|Mystery\n",
       "116                                   if lucy fell              Comedy|Romance\n",
       "123                         flirting with disaster                      Comedy\n",
       "170                                johnny mnemonic      Action|Sci-Fi|Thriller\n",
       "317                                         suture          Film-Noir|Thriller\n",
       "324    tales from the crypt presents: demon knight                      Horror\n",
       "428   city slickers ii: the legend of curly's gold              Comedy|Western\n",
       "451                                     free willy  Adventure|Children's|Drama\n",
       "498                           next karate kid, the           Action|Children's\n",
       "535                           sleepless in seattle              Comedy|Romance\n",
       "585                     terminator 2: judgment day      Action|Sci-Fi|Thriller\n",
       "611         bread and chocolate (pane e cioccolata                       Drama\n",
       "1010          winnie the pooh and the blustery day        Animation|Children's\n",
       "1054                                     crossfire             Crime|Film-Noir\n",
       "1091                                         loser                      Comedy\n",
       "1625                                      deceiver                       Crime\n",
       "1871                         gentleman's agreement                       Drama"
      ]
     },
     "execution_count": 50,
     "metadata": {},
     "output_type": "execute_result"
    }
   ],
   "source": [
    "movies[movies['movie_id'].isin([i[0] for i in movie_recommend])][['title','genre']]"
   ]
  },
  {
   "cell_type": "markdown",
   "id": "4e5d3ad7",
   "metadata": {},
   "source": [
    "---"
   ]
  },
  {
   "cell_type": "markdown",
   "id": "3c78860d",
   "metadata": {},
   "source": [
    "### 영화 기여도 확인"
   ]
  },
  {
   "cell_type": "code",
   "execution_count": 75,
   "id": "81b5befc",
   "metadata": {},
   "outputs": [
    {
     "data": {
      "text/plain": [
       "[('toy story', 0.003479206007435468),\n",
       " ('waiting to exhale', 0.0018963329892242595),\n",
       " ('grumpier old men', -0.0024828011832982774),\n",
       " ('father of the bride part ii', -0.002774970959466793),\n",
       " ('jumanji', -0.006942128975437126)]"
      ]
     },
     "execution_count": 75,
     "metadata": {},
     "output_type": "execute_result"
    }
   ],
   "source": [
    "# 추천 목록에 있는 suture로 확인해보았다.\n",
    "# suture 추천에 대하여, 먼저 설정했던 5개의 기여도를 확인\n",
    "# toy story가 가장 높은 기여도를 보여준다.\n",
    "\n",
    "best_movie = movie_to_idx['suture']\n",
    "explain = als_model.explain(user, csr_data, itemid=best_movie)\n",
    "[(idx_to_movie[i[0]], i[1]) for i in explain[1]]"
   ]
  },
  {
   "cell_type": "markdown",
   "id": "2f5ccb7a",
   "metadata": {},
   "source": [
    "---"
   ]
  },
  {
   "cell_type": "markdown",
   "id": "a43e6812",
   "metadata": {},
   "source": [
    "## 피어슨 상관계수를 사용한 간단한 추천시스템"
   ]
  },
  {
   "cell_type": "markdown",
   "id": "6c1241ff",
   "metadata": {},
   "source": [
    "### 데이터 전처리\n",
    "\n",
    "이번에는 피어슨 상관계수를 이용하여 추천 시스템을 만들어보겠습니다.\n",
    "\n",
    "먼저 데이터 전처리를 하겠습니다."
   ]
  },
  {
   "cell_type": "code",
   "execution_count": 51,
   "id": "eb1c5f15",
   "metadata": {},
   "outputs": [
    {
     "data": {
      "text/html": [
       "<div>\n",
       "<style scoped>\n",
       "    .dataframe tbody tr th:only-of-type {\n",
       "        vertical-align: middle;\n",
       "    }\n",
       "\n",
       "    .dataframe tbody tr th {\n",
       "        vertical-align: top;\n",
       "    }\n",
       "\n",
       "    .dataframe thead th {\n",
       "        text-align: right;\n",
       "    }\n",
       "</style>\n",
       "<table border=\"1\" class=\"dataframe\">\n",
       "  <thead>\n",
       "    <tr style=\"text-align: right;\">\n",
       "      <th></th>\n",
       "      <th>user_id</th>\n",
       "      <th>movie_id</th>\n",
       "      <th>rating</th>\n",
       "      <th>timestamp</th>\n",
       "    </tr>\n",
       "  </thead>\n",
       "  <tbody>\n",
       "    <tr>\n",
       "      <th>0</th>\n",
       "      <td>1</td>\n",
       "      <td>1193</td>\n",
       "      <td>5</td>\n",
       "      <td>978300760</td>\n",
       "    </tr>\n",
       "    <tr>\n",
       "      <th>1</th>\n",
       "      <td>1</td>\n",
       "      <td>661</td>\n",
       "      <td>3</td>\n",
       "      <td>978302109</td>\n",
       "    </tr>\n",
       "    <tr>\n",
       "      <th>2</th>\n",
       "      <td>1</td>\n",
       "      <td>914</td>\n",
       "      <td>3</td>\n",
       "      <td>978301968</td>\n",
       "    </tr>\n",
       "    <tr>\n",
       "      <th>3</th>\n",
       "      <td>1</td>\n",
       "      <td>3408</td>\n",
       "      <td>4</td>\n",
       "      <td>978300275</td>\n",
       "    </tr>\n",
       "    <tr>\n",
       "      <th>4</th>\n",
       "      <td>1</td>\n",
       "      <td>2355</td>\n",
       "      <td>5</td>\n",
       "      <td>978824291</td>\n",
       "    </tr>\n",
       "  </tbody>\n",
       "</table>\n",
       "</div>"
      ],
      "text/plain": [
       "   user_id  movie_id  rating  timestamp\n",
       "0        1      1193       5  978300760\n",
       "1        1       661       3  978302109\n",
       "2        1       914       3  978301968\n",
       "3        1      3408       4  978300275\n",
       "4        1      2355       5  978824291"
      ]
     },
     "execution_count": 51,
     "metadata": {},
     "output_type": "execute_result"
    }
   ],
   "source": [
    "rating_file_path=os.getenv('HOME') + '/aiffel/recommendata_iu/data/ml-1m/ratings.dat'\n",
    "# 사용할 컬럼\n",
    "ratings_cols = ['user_id', 'movie_id', 'rating', 'timestamp']\n",
    "ratings = pd.read_csv(rating_file_path, sep='::', names=ratings_cols, engine='python')\n",
    "orginal_data_size = len(ratings)\n",
    "ratings.head()"
   ]
  },
  {
   "cell_type": "code",
   "execution_count": 52,
   "id": "ab0813b0",
   "metadata": {
    "scrolled": true
   },
   "outputs": [
    {
     "data": {
      "text/html": [
       "<div>\n",
       "<style scoped>\n",
       "    .dataframe tbody tr th:only-of-type {\n",
       "        vertical-align: middle;\n",
       "    }\n",
       "\n",
       "    .dataframe tbody tr th {\n",
       "        vertical-align: top;\n",
       "    }\n",
       "\n",
       "    .dataframe thead th {\n",
       "        text-align: right;\n",
       "    }\n",
       "</style>\n",
       "<table border=\"1\" class=\"dataframe\">\n",
       "  <thead>\n",
       "    <tr style=\"text-align: right;\">\n",
       "      <th></th>\n",
       "      <th>movie_id</th>\n",
       "      <th>title</th>\n",
       "      <th>genre</th>\n",
       "    </tr>\n",
       "  </thead>\n",
       "  <tbody>\n",
       "    <tr>\n",
       "      <th>0</th>\n",
       "      <td>1</td>\n",
       "      <td>Toy Story (1995)</td>\n",
       "      <td>Animation|Children's|Comedy</td>\n",
       "    </tr>\n",
       "    <tr>\n",
       "      <th>1</th>\n",
       "      <td>2</td>\n",
       "      <td>Jumanji (1995)</td>\n",
       "      <td>Adventure|Children's|Fantasy</td>\n",
       "    </tr>\n",
       "    <tr>\n",
       "      <th>2</th>\n",
       "      <td>3</td>\n",
       "      <td>Grumpier Old Men (1995)</td>\n",
       "      <td>Comedy|Romance</td>\n",
       "    </tr>\n",
       "    <tr>\n",
       "      <th>3</th>\n",
       "      <td>4</td>\n",
       "      <td>Waiting to Exhale (1995)</td>\n",
       "      <td>Comedy|Drama</td>\n",
       "    </tr>\n",
       "    <tr>\n",
       "      <th>4</th>\n",
       "      <td>5</td>\n",
       "      <td>Father of the Bride Part II (1995)</td>\n",
       "      <td>Comedy</td>\n",
       "    </tr>\n",
       "  </tbody>\n",
       "</table>\n",
       "</div>"
      ],
      "text/plain": [
       "   movie_id                               title                         genre\n",
       "0         1                    Toy Story (1995)   Animation|Children's|Comedy\n",
       "1         2                      Jumanji (1995)  Adventure|Children's|Fantasy\n",
       "2         3             Grumpier Old Men (1995)                Comedy|Romance\n",
       "3         4            Waiting to Exhale (1995)                  Comedy|Drama\n",
       "4         5  Father of the Bride Part II (1995)                        Comedy"
      ]
     },
     "execution_count": 52,
     "metadata": {},
     "output_type": "execute_result"
    }
   ],
   "source": [
    "# 영화 제목을 보기 위해 메타 데이터를 읽어옵니다.\n",
    "movie_file_path=os.getenv('HOME') + '/aiffel/recommendata_iu/data/ml-1m/movies.dat'\n",
    "cols = ['movie_id', 'title', 'genre'] \n",
    "meta = pd.read_csv(movie_file_path, sep='::', names=cols, engine='python', encoding='ISO-8859-1')\n",
    "meta.head()"
   ]
  },
  {
   "cell_type": "markdown",
   "id": "b2153128",
   "metadata": {},
   "source": [
    "---"
   ]
  },
  {
   "cell_type": "markdown",
   "id": "cf8f6d60",
   "metadata": {},
   "source": [
    "### 데이터 전처리(1)\n",
    "\n",
    "확인하기 편하게 데이터를 합쳐줍니다."
   ]
  },
  {
   "cell_type": "code",
   "execution_count": 53,
   "id": "fe46a636",
   "metadata": {},
   "outputs": [
    {
     "data": {
      "text/html": [
       "<div>\n",
       "<style scoped>\n",
       "    .dataframe tbody tr th:only-of-type {\n",
       "        vertical-align: middle;\n",
       "    }\n",
       "\n",
       "    .dataframe tbody tr th {\n",
       "        vertical-align: top;\n",
       "    }\n",
       "\n",
       "    .dataframe thead th {\n",
       "        text-align: right;\n",
       "    }\n",
       "</style>\n",
       "<table border=\"1\" class=\"dataframe\">\n",
       "  <thead>\n",
       "    <tr style=\"text-align: right;\">\n",
       "      <th></th>\n",
       "      <th>user_id</th>\n",
       "      <th>movie_id</th>\n",
       "      <th>rating</th>\n",
       "      <th>timestamp</th>\n",
       "      <th>title</th>\n",
       "      <th>genre</th>\n",
       "    </tr>\n",
       "  </thead>\n",
       "  <tbody>\n",
       "    <tr>\n",
       "      <th>0</th>\n",
       "      <td>1</td>\n",
       "      <td>1193</td>\n",
       "      <td>5</td>\n",
       "      <td>978300760</td>\n",
       "      <td>One Flew Over the Cuckoo's Nest (1975)</td>\n",
       "      <td>Drama</td>\n",
       "    </tr>\n",
       "    <tr>\n",
       "      <th>1</th>\n",
       "      <td>2</td>\n",
       "      <td>1193</td>\n",
       "      <td>5</td>\n",
       "      <td>978298413</td>\n",
       "      <td>One Flew Over the Cuckoo's Nest (1975)</td>\n",
       "      <td>Drama</td>\n",
       "    </tr>\n",
       "    <tr>\n",
       "      <th>2</th>\n",
       "      <td>12</td>\n",
       "      <td>1193</td>\n",
       "      <td>4</td>\n",
       "      <td>978220179</td>\n",
       "      <td>One Flew Over the Cuckoo's Nest (1975)</td>\n",
       "      <td>Drama</td>\n",
       "    </tr>\n",
       "    <tr>\n",
       "      <th>3</th>\n",
       "      <td>15</td>\n",
       "      <td>1193</td>\n",
       "      <td>4</td>\n",
       "      <td>978199279</td>\n",
       "      <td>One Flew Over the Cuckoo's Nest (1975)</td>\n",
       "      <td>Drama</td>\n",
       "    </tr>\n",
       "    <tr>\n",
       "      <th>4</th>\n",
       "      <td>17</td>\n",
       "      <td>1193</td>\n",
       "      <td>5</td>\n",
       "      <td>978158471</td>\n",
       "      <td>One Flew Over the Cuckoo's Nest (1975)</td>\n",
       "      <td>Drama</td>\n",
       "    </tr>\n",
       "  </tbody>\n",
       "</table>\n",
       "</div>"
      ],
      "text/plain": [
       "   user_id  movie_id  rating  timestamp  \\\n",
       "0        1      1193       5  978300760   \n",
       "1        2      1193       5  978298413   \n",
       "2       12      1193       4  978220179   \n",
       "3       15      1193       4  978199279   \n",
       "4       17      1193       5  978158471   \n",
       "\n",
       "                                    title  genre  \n",
       "0  One Flew Over the Cuckoo's Nest (1975)  Drama  \n",
       "1  One Flew Over the Cuckoo's Nest (1975)  Drama  \n",
       "2  One Flew Over the Cuckoo's Nest (1975)  Drama  \n",
       "3  One Flew Over the Cuckoo's Nest (1975)  Drama  \n",
       "4  One Flew Over the Cuckoo's Nest (1975)  Drama  "
      ]
     },
     "execution_count": 53,
     "metadata": {},
     "output_type": "execute_result"
    }
   ],
   "source": [
    "data = pd.merge(ratings, meta, on='movie_id', how='inner')\n",
    "data.head()"
   ]
  },
  {
   "cell_type": "code",
   "execution_count": 54,
   "id": "b1de2a72",
   "metadata": {},
   "outputs": [],
   "source": [
    "data.drop('timestamp', axis = 1, inplace = True)"
   ]
  },
  {
   "cell_type": "markdown",
   "id": "c3463154",
   "metadata": {},
   "source": [
    "---"
   ]
  },
  {
   "cell_type": "markdown",
   "id": "6cb14fdb",
   "metadata": {},
   "source": [
    "### 데이터 전처리(2)\n",
    "\n",
    "이번에는 피벗테이블로 만들어 보겠습니다.\n",
    "\n",
    "피벗테이블은 두개의 열을 행 인덱스와, 열 인덱스로 사용하여 데이터를 펼쳐놓은것을 뜻합니다.\n",
    "\n",
    "즉, 행은 유저 아이디가 되고 열은 영화이름 데이터에는 영화 점수가 들어가게 됩니다.\n",
    "\n",
    "NaN이라고 되어있는건 결측치가 아닙니다.\n",
    "\n",
    "그 영화에 대한 평가가 없을뿐입니다."
   ]
  },
  {
   "cell_type": "code",
   "execution_count": 55,
   "id": "919dde7e",
   "metadata": {},
   "outputs": [
    {
     "data": {
      "text/html": [
       "<div>\n",
       "<style scoped>\n",
       "    .dataframe tbody tr th:only-of-type {\n",
       "        vertical-align: middle;\n",
       "    }\n",
       "\n",
       "    .dataframe tbody tr th {\n",
       "        vertical-align: top;\n",
       "    }\n",
       "\n",
       "    .dataframe thead th {\n",
       "        text-align: right;\n",
       "    }\n",
       "</style>\n",
       "<table border=\"1\" class=\"dataframe\">\n",
       "  <thead>\n",
       "    <tr style=\"text-align: right;\">\n",
       "      <th>title</th>\n",
       "      <th>$1,000,000 Duck (1971)</th>\n",
       "      <th>'Night Mother (1986)</th>\n",
       "      <th>'Til There Was You (1997)</th>\n",
       "      <th>'burbs, The (1989)</th>\n",
       "      <th>...And Justice for All (1979)</th>\n",
       "      <th>1-900 (1994)</th>\n",
       "      <th>10 Things I Hate About You (1999)</th>\n",
       "      <th>101 Dalmatians (1961)</th>\n",
       "      <th>101 Dalmatians (1996)</th>\n",
       "      <th>12 Angry Men (1957)</th>\n",
       "      <th>...</th>\n",
       "      <th>Young Poisoner's Handbook, The (1995)</th>\n",
       "      <th>Young Sherlock Holmes (1985)</th>\n",
       "      <th>Young and Innocent (1937)</th>\n",
       "      <th>Your Friends and Neighbors (1998)</th>\n",
       "      <th>Zachariah (1971)</th>\n",
       "      <th>Zed &amp; Two Noughts, A (1985)</th>\n",
       "      <th>Zero Effect (1998)</th>\n",
       "      <th>Zero Kelvin (Kjærlighetens kjøtere) (1995)</th>\n",
       "      <th>Zeus and Roxanne (1997)</th>\n",
       "      <th>eXistenZ (1999)</th>\n",
       "    </tr>\n",
       "    <tr>\n",
       "      <th>user_id</th>\n",
       "      <th></th>\n",
       "      <th></th>\n",
       "      <th></th>\n",
       "      <th></th>\n",
       "      <th></th>\n",
       "      <th></th>\n",
       "      <th></th>\n",
       "      <th></th>\n",
       "      <th></th>\n",
       "      <th></th>\n",
       "      <th></th>\n",
       "      <th></th>\n",
       "      <th></th>\n",
       "      <th></th>\n",
       "      <th></th>\n",
       "      <th></th>\n",
       "      <th></th>\n",
       "      <th></th>\n",
       "      <th></th>\n",
       "      <th></th>\n",
       "      <th></th>\n",
       "    </tr>\n",
       "  </thead>\n",
       "  <tbody>\n",
       "    <tr>\n",
       "      <th>1</th>\n",
       "      <td>NaN</td>\n",
       "      <td>NaN</td>\n",
       "      <td>NaN</td>\n",
       "      <td>NaN</td>\n",
       "      <td>NaN</td>\n",
       "      <td>NaN</td>\n",
       "      <td>NaN</td>\n",
       "      <td>NaN</td>\n",
       "      <td>NaN</td>\n",
       "      <td>NaN</td>\n",
       "      <td>...</td>\n",
       "      <td>NaN</td>\n",
       "      <td>NaN</td>\n",
       "      <td>NaN</td>\n",
       "      <td>NaN</td>\n",
       "      <td>NaN</td>\n",
       "      <td>NaN</td>\n",
       "      <td>NaN</td>\n",
       "      <td>NaN</td>\n",
       "      <td>NaN</td>\n",
       "      <td>NaN</td>\n",
       "    </tr>\n",
       "    <tr>\n",
       "      <th>2</th>\n",
       "      <td>NaN</td>\n",
       "      <td>NaN</td>\n",
       "      <td>NaN</td>\n",
       "      <td>NaN</td>\n",
       "      <td>NaN</td>\n",
       "      <td>NaN</td>\n",
       "      <td>NaN</td>\n",
       "      <td>NaN</td>\n",
       "      <td>NaN</td>\n",
       "      <td>NaN</td>\n",
       "      <td>...</td>\n",
       "      <td>NaN</td>\n",
       "      <td>NaN</td>\n",
       "      <td>NaN</td>\n",
       "      <td>NaN</td>\n",
       "      <td>NaN</td>\n",
       "      <td>NaN</td>\n",
       "      <td>NaN</td>\n",
       "      <td>NaN</td>\n",
       "      <td>NaN</td>\n",
       "      <td>NaN</td>\n",
       "    </tr>\n",
       "    <tr>\n",
       "      <th>3</th>\n",
       "      <td>NaN</td>\n",
       "      <td>NaN</td>\n",
       "      <td>NaN</td>\n",
       "      <td>NaN</td>\n",
       "      <td>NaN</td>\n",
       "      <td>NaN</td>\n",
       "      <td>NaN</td>\n",
       "      <td>NaN</td>\n",
       "      <td>NaN</td>\n",
       "      <td>NaN</td>\n",
       "      <td>...</td>\n",
       "      <td>NaN</td>\n",
       "      <td>NaN</td>\n",
       "      <td>NaN</td>\n",
       "      <td>NaN</td>\n",
       "      <td>NaN</td>\n",
       "      <td>NaN</td>\n",
       "      <td>NaN</td>\n",
       "      <td>NaN</td>\n",
       "      <td>NaN</td>\n",
       "      <td>NaN</td>\n",
       "    </tr>\n",
       "    <tr>\n",
       "      <th>4</th>\n",
       "      <td>NaN</td>\n",
       "      <td>NaN</td>\n",
       "      <td>NaN</td>\n",
       "      <td>NaN</td>\n",
       "      <td>NaN</td>\n",
       "      <td>NaN</td>\n",
       "      <td>NaN</td>\n",
       "      <td>NaN</td>\n",
       "      <td>NaN</td>\n",
       "      <td>NaN</td>\n",
       "      <td>...</td>\n",
       "      <td>NaN</td>\n",
       "      <td>NaN</td>\n",
       "      <td>NaN</td>\n",
       "      <td>NaN</td>\n",
       "      <td>NaN</td>\n",
       "      <td>NaN</td>\n",
       "      <td>NaN</td>\n",
       "      <td>NaN</td>\n",
       "      <td>NaN</td>\n",
       "      <td>NaN</td>\n",
       "    </tr>\n",
       "    <tr>\n",
       "      <th>5</th>\n",
       "      <td>NaN</td>\n",
       "      <td>NaN</td>\n",
       "      <td>NaN</td>\n",
       "      <td>NaN</td>\n",
       "      <td>NaN</td>\n",
       "      <td>NaN</td>\n",
       "      <td>NaN</td>\n",
       "      <td>NaN</td>\n",
       "      <td>NaN</td>\n",
       "      <td>NaN</td>\n",
       "      <td>...</td>\n",
       "      <td>NaN</td>\n",
       "      <td>NaN</td>\n",
       "      <td>NaN</td>\n",
       "      <td>NaN</td>\n",
       "      <td>NaN</td>\n",
       "      <td>NaN</td>\n",
       "      <td>NaN</td>\n",
       "      <td>NaN</td>\n",
       "      <td>NaN</td>\n",
       "      <td>NaN</td>\n",
       "    </tr>\n",
       "  </tbody>\n",
       "</table>\n",
       "<p>5 rows × 3706 columns</p>\n",
       "</div>"
      ],
      "text/plain": [
       "title    $1,000,000 Duck (1971)  'Night Mother (1986)  \\\n",
       "user_id                                                 \n",
       "1                           NaN                   NaN   \n",
       "2                           NaN                   NaN   \n",
       "3                           NaN                   NaN   \n",
       "4                           NaN                   NaN   \n",
       "5                           NaN                   NaN   \n",
       "\n",
       "title    'Til There Was You (1997)  'burbs, The (1989)  \\\n",
       "user_id                                                  \n",
       "1                              NaN                 NaN   \n",
       "2                              NaN                 NaN   \n",
       "3                              NaN                 NaN   \n",
       "4                              NaN                 NaN   \n",
       "5                              NaN                 NaN   \n",
       "\n",
       "title    ...And Justice for All (1979)  1-900 (1994)  \\\n",
       "user_id                                                \n",
       "1                                  NaN           NaN   \n",
       "2                                  NaN           NaN   \n",
       "3                                  NaN           NaN   \n",
       "4                                  NaN           NaN   \n",
       "5                                  NaN           NaN   \n",
       "\n",
       "title    10 Things I Hate About You (1999)  101 Dalmatians (1961)  \\\n",
       "user_id                                                             \n",
       "1                                      NaN                    NaN   \n",
       "2                                      NaN                    NaN   \n",
       "3                                      NaN                    NaN   \n",
       "4                                      NaN                    NaN   \n",
       "5                                      NaN                    NaN   \n",
       "\n",
       "title    101 Dalmatians (1996)  12 Angry Men (1957)  ...  \\\n",
       "user_id                                              ...   \n",
       "1                          NaN                  NaN  ...   \n",
       "2                          NaN                  NaN  ...   \n",
       "3                          NaN                  NaN  ...   \n",
       "4                          NaN                  NaN  ...   \n",
       "5                          NaN                  NaN  ...   \n",
       "\n",
       "title    Young Poisoner's Handbook, The (1995)  Young Sherlock Holmes (1985)  \\\n",
       "user_id                                                                        \n",
       "1                                          NaN                           NaN   \n",
       "2                                          NaN                           NaN   \n",
       "3                                          NaN                           NaN   \n",
       "4                                          NaN                           NaN   \n",
       "5                                          NaN                           NaN   \n",
       "\n",
       "title    Young and Innocent (1937)  Your Friends and Neighbors (1998)  \\\n",
       "user_id                                                                 \n",
       "1                              NaN                                NaN   \n",
       "2                              NaN                                NaN   \n",
       "3                              NaN                                NaN   \n",
       "4                              NaN                                NaN   \n",
       "5                              NaN                                NaN   \n",
       "\n",
       "title    Zachariah (1971)  Zed & Two Noughts, A (1985)  Zero Effect (1998)  \\\n",
       "user_id                                                                      \n",
       "1                     NaN                          NaN                 NaN   \n",
       "2                     NaN                          NaN                 NaN   \n",
       "3                     NaN                          NaN                 NaN   \n",
       "4                     NaN                          NaN                 NaN   \n",
       "5                     NaN                          NaN                 NaN   \n",
       "\n",
       "title    Zero Kelvin (Kjærlighetens kjøtere) (1995)  Zeus and Roxanne (1997)  \\\n",
       "user_id                                                                        \n",
       "1                                               NaN                      NaN   \n",
       "2                                               NaN                      NaN   \n",
       "3                                               NaN                      NaN   \n",
       "4                                               NaN                      NaN   \n",
       "5                                               NaN                      NaN   \n",
       "\n",
       "title    eXistenZ (1999)  \n",
       "user_id                   \n",
       "1                    NaN  \n",
       "2                    NaN  \n",
       "3                    NaN  \n",
       "4                    NaN  \n",
       "5                    NaN  \n",
       "\n",
       "[5 rows x 3706 columns]"
      ]
     },
     "execution_count": 55,
     "metadata": {},
     "output_type": "execute_result"
    }
   ],
   "source": [
    "matrix = data.pivot_table(index='user_id', columns='title', values='rating')\n",
    "matrix.head()"
   ]
  },
  {
   "cell_type": "markdown",
   "id": "b6ef3929",
   "metadata": {},
   "source": [
    "---"
   ]
  },
  {
   "attachments": {
    "%EB%8B%A4%EC%9A%B4%EB%A1%9C%EB%93%9C.png": {
     "image/png": "[encoded data removed]"
    }
   },
   "cell_type": "markdown",
   "id": "e2d60e1f",
   "metadata": {},
   "source": [
    "### 피어슨 상관계수 공식을 사용한 함수 만들기\n",
    "\n",
    "\n",
    "피어슨 상관계수를 사용하여 영화간에 상관관계를 파악하여 \n",
    "\n",
    "가장 유사한 영화를 추천해주는 추천 시스템을 개발해보겠습니다.\n",
    "\n",
    "피어슨 상관계수 공식과 관련 링크 첨부합니다.\n",
    "\n",
    "![%EB%8B%A4%EC%9A%B4%EB%A1%9C%EB%93%9C.png](attachment:%EB%8B%A4%EC%9A%B4%EB%A1%9C%EB%93%9C.png)\n",
    "\n",
    "링크 : https://ko.wikipedia.org/wiki/%ED%94%BC%EC%96%B4%EC%8A%A8_%EC%83%81%EA%B4%80_%EA%B3%84%EC%88%98"
   ]
  },
  {
   "cell_type": "code",
   "execution_count": 76,
   "id": "66569407",
   "metadata": {},
   "outputs": [],
   "source": [
    "#가중치 설정\n",
    "GENRE_WEIGHT = 0.1\n",
    "\n",
    "#피어슨 상관계수 공식을 함수로 만듬\n",
    "def pearsonR(s1, s2):\n",
    "    s1_c = s1 - s1.mean()\n",
    "    s2_c = s2 - s2.mean()\n",
    "    return np.sum(s1_c * s2_c) / np.sqrt(np.sum(s1_c ** 2) * np.sum(s2_c ** 2))\n",
    "\n",
    "#추천 시스템을 함수로 구현\n",
    "def recommend(input_movie, matrix, n, similar_genre=True):\n",
    "    input_genres = meta[meta['title'] == input_movie]['genre']\n",
    "    result = []\n",
    "    for title in matrix.columns:\n",
    "        \n",
    "        #현재 상관계수를 구할라는 영화과 검색한 영화와 같으면 패스\n",
    "        if title == input_movie:\n",
    "            continue\n",
    "            \n",
    "        #다를 경우 상관관계를 계산함\n",
    "        cor = pearsonR(matrix[input_movie], matrix[title])\n",
    "        if similar_genre and len(input_genres) > 0:\n",
    "            temp_genres = meta[meta['title'] == title]['genre']\n",
    "            same_count = np.sum(np.isin(input_genres, temp_genres))\n",
    "            #가중치 업데이트\n",
    "            cor += (GENRE_WEIGHT * same_count)\n",
    "        if np.isnan(cor):\n",
    "            continue\n",
    "        else:\n",
    "            #상관관계 값을 result라는 리스트에 담아둠\n",
    "            result.append((title, '{:.2f}'.format(cor), temp_genres))\n",
    "            \n",
    "    result.sort(key=lambda r: r[1], reverse=True)\n",
    "    return result[:n]"
   ]
  },
  {
   "cell_type": "markdown",
   "id": "206119cf",
   "metadata": {},
   "source": [
    "---"
   ]
  },
  {
   "cell_type": "markdown",
   "id": "3630d420",
   "metadata": {},
   "source": [
    "### 결과 확인\n",
    "\n",
    "저는 1-900 (1994)라는 영화를 기준으로 비슷한 장르의 영화를 10개 뽑아봤습니다.\n",
    "\n",
    "주의 : movie 데이터에 포함되어있는 영화만 검색이 가능합니다. 꼭 풀네임으로 입력해주세용"
   ]
  },
  {
   "cell_type": "code",
   "execution_count": 57,
   "id": "adbe708f",
   "metadata": {},
   "outputs": [
    {
     "data": {
      "text/html": [
       "<div>\n",
       "<style scoped>\n",
       "    .dataframe tbody tr th:only-of-type {\n",
       "        vertical-align: middle;\n",
       "    }\n",
       "\n",
       "    .dataframe tbody tr th {\n",
       "        vertical-align: top;\n",
       "    }\n",
       "\n",
       "    .dataframe thead th {\n",
       "        text-align: right;\n",
       "    }\n",
       "</style>\n",
       "<table border=\"1\" class=\"dataframe\">\n",
       "  <thead>\n",
       "    <tr style=\"text-align: right;\">\n",
       "      <th></th>\n",
       "      <th>Title</th>\n",
       "      <th>Correlation</th>\n",
       "      <th>Genre</th>\n",
       "    </tr>\n",
       "  </thead>\n",
       "  <tbody>\n",
       "    <tr>\n",
       "      <th>0</th>\n",
       "      <td>Little Boy Blue (1997)</td>\n",
       "      <td>0.40</td>\n",
       "      <td>1821    Drama\n",
       "Name: genre, dtype: object</td>\n",
       "    </tr>\n",
       "    <tr>\n",
       "      <th>1</th>\n",
       "      <td>Heidi Fleiss: Hollywood Madam (1995)</td>\n",
       "      <td>0.26</td>\n",
       "      <td>97    Documentary\n",
       "Name: genre, dtype: object</td>\n",
       "    </tr>\n",
       "    <tr>\n",
       "      <th>2</th>\n",
       "      <td>Peeping Tom (1960)</td>\n",
       "      <td>0.22</td>\n",
       "      <td>2419    Drama|Horror|Thriller\n",
       "Name: genre, dty...</td>\n",
       "    </tr>\n",
       "    <tr>\n",
       "      <th>3</th>\n",
       "      <td>Affair to Remember, An (1957)</td>\n",
       "      <td>0.15</td>\n",
       "      <td>920    Romance\n",
       "Name: genre, dtype: object</td>\n",
       "    </tr>\n",
       "    <tr>\n",
       "      <th>4</th>\n",
       "      <td>Against All Odds (1984)</td>\n",
       "      <td>0.15</td>\n",
       "      <td>3137    Romance\n",
       "Name: genre, dtype: object</td>\n",
       "    </tr>\n",
       "    <tr>\n",
       "      <th>5</th>\n",
       "      <td>Above the Rim (1994)</td>\n",
       "      <td>0.11</td>\n",
       "      <td>405    Drama\n",
       "Name: genre, dtype: object</td>\n",
       "    </tr>\n",
       "    <tr>\n",
       "      <th>6</th>\n",
       "      <td>Masque of the Red Death, The (1964)</td>\n",
       "      <td>0.11</td>\n",
       "      <td>2715    Horror\n",
       "Name: genre, dtype: object</td>\n",
       "    </tr>\n",
       "    <tr>\n",
       "      <th>7</th>\n",
       "      <td>Autumn Tale, An (Conte d'automne) (1998)</td>\n",
       "      <td>0.10</td>\n",
       "      <td>2639    Romance\n",
       "Name: genre, dtype: object</td>\n",
       "    </tr>\n",
       "    <tr>\n",
       "      <th>8</th>\n",
       "      <td>Chambermaid on the Titanic, The (1998)</td>\n",
       "      <td>0.10</td>\n",
       "      <td>2088    Romance\n",
       "Name: genre, dtype: object</td>\n",
       "    </tr>\n",
       "    <tr>\n",
       "      <th>9</th>\n",
       "      <td>City of Angels (1998)</td>\n",
       "      <td>0.10</td>\n",
       "      <td>1767    Romance\n",
       "Name: genre, dtype: object</td>\n",
       "    </tr>\n",
       "  </tbody>\n",
       "</table>\n",
       "</div>"
      ],
      "text/plain": [
       "                                      Title Correlation  \\\n",
       "0                    Little Boy Blue (1997)        0.40   \n",
       "1      Heidi Fleiss: Hollywood Madam (1995)        0.26   \n",
       "2                        Peeping Tom (1960)        0.22   \n",
       "3             Affair to Remember, An (1957)        0.15   \n",
       "4                   Against All Odds (1984)        0.15   \n",
       "5                      Above the Rim (1994)        0.11   \n",
       "6       Masque of the Red Death, The (1964)        0.11   \n",
       "7  Autumn Tale, An (Conte d'automne) (1998)        0.10   \n",
       "8    Chambermaid on the Titanic, The (1998)        0.10   \n",
       "9                     City of Angels (1998)        0.10   \n",
       "\n",
       "                                               Genre  \n",
       "0           1821    Drama\n",
       "Name: genre, dtype: object  \n",
       "1       97    Documentary\n",
       "Name: genre, dtype: object  \n",
       "2  2419    Drama|Horror|Thriller\n",
       "Name: genre, dty...  \n",
       "3          920    Romance\n",
       "Name: genre, dtype: object  \n",
       "4         3137    Romance\n",
       "Name: genre, dtype: object  \n",
       "5            405    Drama\n",
       "Name: genre, dtype: object  \n",
       "6          2715    Horror\n",
       "Name: genre, dtype: object  \n",
       "7         2639    Romance\n",
       "Name: genre, dtype: object  \n",
       "8         2088    Romance\n",
       "Name: genre, dtype: object  \n",
       "9         1767    Romance\n",
       "Name: genre, dtype: object  "
      ]
     },
     "execution_count": 57,
     "metadata": {},
     "output_type": "execute_result"
    }
   ],
   "source": [
    "recommend_result = recommend('1-900 (1994)', matrix, 10, similar_genre=True)\n",
    "\n",
    "pd.DataFrame(recommend_result, columns = ['Title', 'Correlation', 'Genre'])"
   ]
  },
  {
   "cell_type": "markdown",
   "id": "14dc605a",
   "metadata": {},
   "source": [
    "---"
   ]
  },
  {
   "cell_type": "markdown",
   "id": "e49d51d2",
   "metadata": {},
   "source": [
    "## 마무리\n",
    "\n",
    "### - 어려웠던 점.\n",
    "\n",
    "코랩에서는 코드가 제대로 작동하지 않았습니다.\n",
    "\n",
    "전치행렬 문제가 아니라 추천영화를 두가지 리스트로 분리해서 불러왔습니다.\n",
    "\n",
    "오류를 끝까지 해결하고 싶어 도전했지만, 결국 패배하고 쥬피터 노트북으로 작성하였습니다....\n",
    "\n",
    "### - 미숙한 점.\n",
    "\n",
    "데이터 전처리가 미숙하다고 생각합니다.\n",
    "\n",
    "교육 시작한지 몇달이 지났지만 데이터 전처리는 아직도 미숙합니다...\n",
    "\n",
    "꾸준히 공부하는게 답인거 같습니다.\n",
    "\n",
    "### - 알아낸 점.\n",
    "\n",
    "추천 시스템에 종류가 상당히 다양하다는 것을 알아냈습니다.\n",
    "\n",
    "상황에 따라서 쓰는것도 다르고 혹은 굳이 모델을 만들지 않고도 만들 수 있습니다.\n",
    "\n",
    "### - 회고\n",
    "\n",
    "더 다양한 구현 기법을 찾아보고 실제로 구현해보아야 된다고 생각합니다.\n",
    "\n",
    "피어슨 상관계수를 사용한 추천 시스템이 데이터 전처리나 성능 면에서 더 뛰어난거 같습니다.\n",
    "\n",
    "물론 학습 횟수를 늘리면 결과가 달라질수도 있습니다.\n",
    "\n",
    "그렇지만 구현 시간적인 측면에서는 피어슨이 압도적입니다.\n",
    "\n",
    "추후 과제로는 간단하면서 성능이 좋은 모델을 만들고 싶습니다."
   ]
  },
  {
   "cell_type": "code",
   "execution_count": null,
   "id": "ea2cf61a",
   "metadata": {},
   "outputs": [],
   "source": []
  }
 ],
 "metadata": {
  "kernelspec": {
   "display_name": "Python 3 (ipykernel)",
   "language": "python",
   "name": "python3"
  },
  "language_info": {
   "codemirror_mode": {
    "name": "ipython",
    "version": 3
   },
   "file_extension": ".py",
   "mimetype": "text/x-python",
   "name": "python",
   "nbconvert_exporter": "python",
   "pygments_lexer": "ipython3",
   "version": "3.9.7"
  }
 },
 "nbformat": 4,
 "nbformat_minor": 5
}
